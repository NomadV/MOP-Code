{
 "cells": [
  {
   "cell_type": "markdown",
   "metadata": {},
   "source": [
    "_**DELETE BEFORE PUBLISHING**_\n",
    "\n",
    "_This is a template also containing the style guide for use cases. The styling uses the use-case css when uploaded to the website, which will not be visible on your local machine._\n",
    "\n",
    "_Change any text marked with {} and delete any cells marked DELETE_\n",
    "\n",
    "***"
   ]
  },
  {
   "cell_type": "code",
   "execution_count": 5,
   "metadata": {},
   "outputs": [
    {
     "data": {
      "text/html": [
       "\n",
       "<style>\n",
       ".usecase-title, .usecase-duration, .usecase-section-header {\n",
       "    padding-left: 15px;\n",
       "    padding-bottom: 8px;\n",
       "    padding-top: 8px;\n",
       "    padding-right: 15px;\n",
       "    background-color: #0f9295;\n",
       "    color: #fff;\n",
       "}\n",
       "\n",
       ".usecase-title {\n",
       "    font-size: 1.7em;\n",
       "    font-weight: bold;\n",
       "}\n",
       "\n",
       ".usecase-authors, .usecase-level, .usecase-skill {\n",
       "    padding-left: 15px;\n",
       "    padding-bottom: 6px;\n",
       "    padding-top: 6px;\n",
       "    background-color: #baeaeb;\n",
       "    font-size: 1.4em;\n",
       "    color: #121212;\n",
       "}\n",
       "\n",
       ".usecase-level-skill  {\n",
       "    display: flex;\n",
       "}\n",
       "\n",
       ".usecase-level, .usecase-skill {\n",
       "    width: 50%;\n",
       "}\n",
       "\n",
       ".usecase-duration, .usecase-skill {\n",
       "    text-align: right;\n",
       "    padding-right: 15px;\n",
       "    padding-bottom: 6px;\n",
       "    font-size: 1.4em;\n",
       "}\n",
       "\n",
       ".usecase-section-header {\n",
       "    font-weight: bold;\n",
       "    font-size: 1.5em;\n",
       "}\n",
       "\n",
       ".usecase-subsection-header, .usecase-subsection-blurb {\n",
       "    font-weight: bold;\n",
       "    font-size: 1.2em;\n",
       "    color: #121212;\n",
       "}\n",
       "\n",
       ".usecase-subsection-blurb {\n",
       "    font-size: 1em;\n",
       "    font-style: italic;\n",
       "}\n",
       "</style>\n"
      ],
      "text/plain": [
       "<IPython.core.display.HTML object>"
      ]
     },
     "execution_count": 5,
     "metadata": {},
     "output_type": "execute_result"
    }
   ],
   "source": [
    "# DELETE BEFORE PUBLISHING\n",
    "# This is just here so you can preview the styling on your local machine\n",
    "\n",
    "from IPython.core.display import HTML\n",
    "HTML(\"\"\"\n",
    "<style>\n",
    ".usecase-title, .usecase-duration, .usecase-section-header {\n",
    "    padding-left: 15px;\n",
    "    padding-bottom: 10px;\n",
    "    padding-top: 10px;\n",
    "    padding-right: 15px;\n",
    "    background-color: #0f9295;\n",
    "    color: #fff;\n",
    "}\n",
    "\n",
    ".usecase-title {\n",
    "    font-size: 1.7em;\n",
    "    font-weight: bold;\n",
    "}\n",
    "\n",
    ".usecase-authors, .usecase-level, .usecase-skill {\n",
    "    padding-left: 15px;\n",
    "    padding-bottom: 7px;\n",
    "    padding-top: 7px;\n",
    "    background-color: #baeaeb;\n",
    "    font-size: 1.4em;\n",
    "    color: #121212;\n",
    "}\n",
    "\n",
    ".usecase-level-skill  {\n",
    "    display: flex;\n",
    "}\n",
    "\n",
    ".usecase-level, .usecase-skill {\n",
    "    width: 50%;\n",
    "}\n",
    "\n",
    ".usecase-duration, .usecase-skill {\n",
    "    text-align: right;\n",
    "    padding-right: 15px;\n",
    "    padding-bottom: 8px;\n",
    "    font-size: 1.4em;\n",
    "}\n",
    "\n",
    ".usecase-section-header {\n",
    "    font-weight: bold;\n",
    "    font-size: 1.5em;\n",
    "}\n",
    "\n",
    ".usecase-subsection-header, .usecase-subsection-blurb {\n",
    "    font-weight: bold;\n",
    "    font-size: 1.2em;\n",
    "    color: #121212;\n",
    "}\n",
    "\n",
    ".usecase-subsection-blurb {\n",
    "    font-size: 1em;\n",
    "    font-style: italic;\n",
    "}\n",
    "</style>\n",
    "\"\"\")\n"
   ]
  },
  {
   "cell_type": "markdown",
   "metadata": {},
   "source": [
    "<div class=\"usecase-title\">{Use Case Name}</div>\n",
    "\n",
    "<div class=\"usecase-authors\"><b>Authored by: </b> {Author/s}</div>"
   ]
  },
  {
   "cell_type": "markdown",
   "metadata": {},
   "source": [
    "<div class=\"usecase-duration\"><b>Duration:</b> {90} mins</div>\n",
    "\n",
    "<div class=\"usecase-level-skill\">\n",
    "    <div class=\"usecase-level\"><b>Level: </b>{Intermediate}</div>\n",
    "    <div class=\"usecase-skill\"><b>Pre-requisite Skills: </b>{Python, and add any more skills needed}</div>\n",
    "</div>"
   ]
  },
  {
   "cell_type": "markdown",
   "metadata": {},
   "source": [
    "<div class=\"usecase-section-header\">Scenario</div>"
   ]
  },
  {
   "cell_type": "markdown",
   "metadata": {},
   "source": [
    "{Using User Story format, write a description of the problem you are trying to solve for this use case.}"
   ]
  },
  {
   "cell_type": "markdown",
   "metadata": {},
   "source": [
    "<div class=\"usecase-section-header\">What this use case will teach you</div>"
   ]
  },
  {
   "cell_type": "markdown",
   "metadata": {},
   "source": [
    "At the end of this use case you will:\n",
    "- {list the skills demonstrated in your use case}"
   ]
  },
  {
   "cell_type": "markdown",
   "metadata": {},
   "source": [
    "<div class=\"usecase-section-header\">{Heading for introduction or background relating to problem}</div>"
   ]
  },
  {
   "cell_type": "markdown",
   "metadata": {},
   "source": [
    "{Write your introduction here. Keep it concise. We're not after \"War and Peace\" but enough background information to inform the reader on the rationale for solving this problem or background non-technical information that helps explain the approach. You may also wish to give information on the datasets, particularly how to source those not being imported from the client's open data portal.}\n",
    "\n"
   ]
  },
  {
   "cell_type": "code",
   "execution_count": 4,
   "metadata": {},
   "outputs": [],
   "source": [
    "import os\n",
    "import time\n",
    "\n",
    "from datetime import datetime\n",
    "import numpy as np\n",
    "import pandas as pd\n",
    "import plotly.graph_objs as go\n",
    "import plotly.express as px\n",
    "import requests\n",
    "import cred\n"
   ]
  },
  {
   "cell_type": "code",
   "execution_count": 1,
   "metadata": {},
   "outputs": [],
   "source": [
    "# https://data.melbourne.vic.gov.au/api/v2/catalog/datasets/city-of-melbourne-liveability-and-social-indicators/records?limit=10&offset=0&timezone=UTC\n"
   ]
  },
  {
   "cell_type": "code",
   "execution_count": 5,
   "metadata": {},
   "outputs": [],
   "source": [
    "mel_liv_indicator = pd.read_csv(\n",
    "    'https://data.melbourne.vic.gov.au/api/v2/catalog/datasets/city-of-melbourne-liveability-and-social-indicators/records?limit=10&offset=0&timezone=UTC', sep=\";\")\n"
   ]
  },
  {
   "cell_type": "code",
   "execution_count": 12,
   "metadata": {},
   "outputs": [
    {
     "data": {
      "text/html": [
       "<div>\n",
       "<style scoped>\n",
       "    .dataframe tbody tr th:only-of-type {\n",
       "        vertical-align: middle;\n",
       "    }\n",
       "\n",
       "    .dataframe tbody tr th {\n",
       "        vertical-align: top;\n",
       "    }\n",
       "\n",
       "    .dataframe thead th {\n",
       "        text-align: right;\n",
       "    }\n",
       "</style>\n",
       "<table border=\"1\" class=\"dataframe\">\n",
       "  <thead>\n",
       "    <tr style=\"text-align: right;\">\n",
       "      <th></th>\n",
       "      <th>{\"total_count\": 319, \"links\": [{\"rel\": \"self\", \"href\": \"https://data.melbourne.vic.gov.au/api/v2/catalog/datasets/city-of-melbourne-liveability-and-social-indicators/records?limit=10&amp;offset=0&amp;timezone=UTC&amp;include_app_metas=False\"}, {\"rel\": \"first\", \"href\": \"https://data.melbourne.vic.gov.au/api/v2/catalog/datasets/city-of-melbourne-liveability-and-social-indicators/records?limit=10&amp;offset=0&amp;timezone=UTC&amp;include_app_metas=False\"}, {\"rel\": \"last\", \"href\": \"https://data.melbourne.vic.gov.au/api/v2/catalog/datasets/city-of-melbourne-liveability-and-social-indicators/records?limit=10&amp;offset=310&amp;timezone=UTC&amp;include_app_metas=False\"}, {\"rel\": \"next\", \"href\": \"https://data.melbourne.vic.gov.au/api/v2/catalog/datasets/city-of-melbourne-liveability-and-social-indicators/records?limit=10&amp;offset=10&amp;timezone=UTC&amp;include_app_metas=False\"}], \"records\": [{\"links\": [{\"rel\": \"self\", \"href\": \"https://data.melbourne.vic.gov.au/api/v2/catalog/datasets/city-of-melbourne-liveability-and-social-indicators/records/f03f0756ecb6d14ac77ee023f16c557ab0c7b382\"}, {\"rel\": \"datasets\", \"href\": \"https://data.melbourne.vic.gov.au/api/v2/catalog/datasets\"}, {\"rel\": \"dataset\", \"href\": \"https://data.melbourne.vic.gov.au/api/v2/catalog/datasets/city-of-melbourne-liveability-and-social-indicators\"}], \"record\": {\"id\": \"f03f0756ecb6d14ac77ee023f16c557ab0c7b382\", \"timestamp\": \"2022-11-13T10:03:30.721Z\", \"size\": 250, \"fields\": {\"type\": \"Liveability\", \"topic\": \"Economy\", \"id\": \"ECO_1\", \"indicator\": \"City's unemployment rate\", \"period\": \"2018 (June Qtr)\", \"numerator\": \"3,923\", \"denominator\": \"100,789\", \"value\": 3.89, \"value_type\": \"Percentage\", \"sources\": \"Australian Government Department of Employment, Local Government Area (LGA) Data tables, Small Area Labour Markets, June Quarter 2018\"}}}, {\"links\": [{\"rel\": \"self\", \"href\": \"https://data.melbourne.vic.gov.au/api/v2/catalog/datasets/city-of-melbourne-liveability-and-social-indicators/records/00a2dd0aaca08608c22c2f5f1d10f8455d2331ce\"}, {\"rel\": \"datasets\", \"href\": \"https://data.melbourne.vic.gov.au/api/v2/catalog/datasets\"}, {\"rel\": \"dataset\", \"href\": \"https://data.melbourne.vic.gov.au/api/v2/catalog/datasets/city-of-melbourne-liveability-and-social-indicators\"}], \"record\": {\"id\": \"00a2dd0aaca08608c22c2f5f1d10f8455d2331ce\", \"timestamp\": \"2022-11-13T10:03:30.721Z\", \"size\": 249, \"fields\": {\"type\": \"Liveability\", \"topic\": \"Economy\", \"id\": \"ECO_1\", \"indicator\": \"City's unemployment rate\", \"period\": \"2017 (June Qtr)\", \"numerator\": \"3,719\", \"denominator\": \"96,258\", \"value\": 3.86, \"value_type\": \"Percentage\", \"sources\": \"Australian Government Department of Employment, Local Government Area (LGA) Data tables, Small Area Labour Markets, June Quarter 2018\"}}}, {\"links\": [{\"rel\": \"self\", \"href\": \"https://data.melbourne.vic.gov.au/api/v2/catalog/datasets/city-of-melbourne-liveability-and-social-indicators/records/56c691f63d52b2a7ae4124bfced5e10e413c8997\"}, {\"rel\": \"datasets\", \"href\": \"https://data.melbourne.vic.gov.au/api/v2/catalog/datasets\"}, {\"rel\": \"dataset\", \"href\": \"https://data.melbourne.vic.gov.au/api/v2/catalog/datasets/city-of-melbourne-liveability-and-social-indicators\"}], \"record\": {\"id\": \"56c691f63d52b2a7ae4124bfced5e10e413c8997\", \"timestamp\": \"2022-11-13T10:03:30.721Z\", \"size\": 202, \"fields\": {\"type\": \"Liveability\", \"topic\": \"Economy\", \"id\": \"ECO_3\", \"indicator\": \"Percentage of city population living in poverty\", \"period\": \"2016\", \"numerator\": \"13,804\", \"denominator\": \"146,096\", \"value\": 9.45, \"value_type\": \"Percentage\", \"sources\": \"Geografia, Relative Poverty and Employment Measures, 2018 (commissioned)\"}}}, {\"links\": [{\"rel\": \"self\", \"href\": \"https://data.melbourne.vic.gov.au/api/v2/catalog/datasets/city-of-melbourne-liveability-and-social-indicators/records/0af5bd9f48546d1a181d8d2ede587761d60cd897\"}, {\"rel\": \"datasets\", \"href\": \"https://data.melbourne.vic.gov.au/api/v2/catalog/datasets\"}, {\"rel\": \"dataset\", \"href\": \"https://data.melbourne.vic.gov.au/api/v2/catalog/datasets/city-of-melbourne-liveability-and-social-indicators\"}], \"record\": {\"id\": \"0af5bd9f48546d1a181d8d2ede587761d60cd897\", \"timestamp\": \"2022-11-13T10:03:30.721Z\", \"size\": 230, \"fields\": {\"type\": \"Liveability\", \"topic\": \"Economy\", \"id\": \"ECO_4\", \"indicator\": \"Percentage of persons (city population) in full-time employment\", \"period\": \"2016 (June Qtr)\", \"numerator\": \"62,760\", \"denominator\": \"146,096\", \"value\": 42.96, \"value_type\": \"Percentage\", \"sources\": \"Geografia, Relative Poverty and Employment Measures, 2018 (commissioned)\"}}}, {\"links\": [{\"rel\": \"self\", \"href\": \"https://data.melbourne.vic.gov.au/api/v2/catalog/datasets/city-of-melbourne-liveability-and-social-indicators/records/2e17a4f467cfb6775a48fc64d125e3c5692c1835\"}, {\"rel\": \"datasets\", \"href\": \"https://data.melbourne.vic.gov.au/api/v2/catalog/datasets\"}, {\"rel\": \"dataset\", \"href\": \"https://data.melbourne.vic.gov.au/api/v2/catalog/datasets/city-of-melbourne-liveability-and-social-indicators\"}], \"record\": {\"id\": \"2e17a4f467cfb6775a48fc64d125e3c5692c1835\", \"timestamp\": \"2022-11-13T10:03:30.721Z\", \"size\": 230, \"fields\": {\"type\": \"Liveability\", \"topic\": \"Economy\", \"id\": \"ECO_4\", \"indicator\": \"Percentage of persons (city population) in full-time employment\", \"period\": \"2015 (June Qtr)\", \"numerator\": \"58,669\", \"denominator\": \"136,872\", \"value\": 42.86, \"value_type\": \"Percentage\", \"sources\": \"Geografia, Relative Poverty and Employment Measures, 2018 (commissioned)\"}}}, {\"links\": [{\"rel\": \"self\", \"href\": \"https://data.melbourne.vic.gov.au/api/v2/catalog/datasets/city-of-melbourne-liveability-and-social-indicators/records/aee4ec21bf678a827d27db32a9c236c14da97844\"}, {\"rel\": \"datasets\", \"href\": \"https://data.melbourne.vic.gov.au/api/v2/catalog/datasets\"}, {\"rel\": \"dataset\", \"href\": \"https://data.melbourne.vic.gov.au/api/v2/catalog/datasets/city-of-melbourne-liveability-and-social-indicators\"}], \"record\": {\"id\": \"aee4ec21bf678a827d27db32a9c236c14da97844\", \"timestamp\": \"2022-11-13T10:03:30.721Z\", \"size\": 193, \"fields\": {\"type\": \"Liveability\", \"topic\": \"Economy\", \"id\": \"ECO_5\", \"indicator\": \"Youth unemployment rate\", \"period\": \"2017 (June Qtr)\", \"numerator\": \"1,343.01\", \"denominator\": \"15,313.82\", \"value\": 8.77, \"value_type\": \"Percentage\", \"sources\": \"Geografia, Relative Poverty and Employment Measures, 2018 (commissioned)\"}}}, {\"links\": [{\"rel\": \"self\", \"href\": \"https://data.melbourne.vic.gov.au/api/v2/catalog/datasets/city-of-melbourne-liveability-and-social-indicators/records/47af3487d802d9a4ea7e7aa403d0dd9615f07c1a\"}, {\"rel\": \"datasets\", \"href\": \"https://data.melbourne.vic.gov.au/api/v2/catalog/datasets\"}, {\"rel\": \"dataset\", \"href\": \"https://data.melbourne.vic.gov.au/api/v2/catalog/datasets/city-of-melbourne-liveability-and-social-indicators\"}], \"record\": {\"id\": \"47af3487d802d9a4ea7e7aa403d0dd9615f07c1a\", \"timestamp\": \"2022-11-13T10:03:30.721Z\", \"size\": 333, \"fields\": {\"type\": \"Liveability\", \"topic\": \"Economy\", \"id\": \"ECO_6\", \"indicator\": \"Number of businesses per 100,000 people\", \"period\": \"2015 (at 30 June)\", \"numerator\": \"13,760\", \"denominator\": \"1.37\", \"value\": 10053.19, \"value_type\": \"Number\", \"sources\": \"1. Australian Bureau of Statistics, 8165.0 Counts of Australian Businesses, including Entries and Exits, June 2015 to June 2017\\n2. Australian Bureau of Statistics, ERP by LGA (ASGS 2018), 2001 to 2018\"}}}, {\"links\": [{\"rel\": \"self\", \"href\": \"https://data.melbourne.vic.gov.au/api/v2/catalog/datasets/city-of-melbourne-liveability-and-social-indicators/records/16650fe130111fa4bbe986995141b9820ab73c06\"}, {\"rel\": \"datasets\", \"href\": \"https://data.melbourne.vic.gov.au/api/v2/catalog/datasets\"}, {\"rel\": \"dataset\", \"href\": \"https://data.melbourne.vic.gov.au/api/v2/catalog/datasets/city-of-melbourne-liveability-and-social-indicators\"}], \"record\": {\"id\": \"16650fe130111fa4bbe986995141b9820ab73c06\", \"timestamp\": \"2022-11-13T10:03:30.721Z\", \"size\": 262, \"fields\": {\"type\": \"Liveability\", \"topic\": \"Economy\", \"id\": \"ECO_7\", \"indicator\": \"Number of new patents per 100,000 people per year\", \"period\": \"2016\", \"numerator\": \"125\", \"denominator\": \"1.46\", \"value\": 85.56, \"value_type\": \"Number\", \"sources\": \"1. IP Australia, Intellectual Property Government Open Data, 2018\\n2. Australian Bureau of Statistics, ERP by LGA (ASGS 2018), 2001 to 2018\"}}}, {\"links\": [{\"rel\": \"self\", \"href\": \"https://data.melbourne.vic.gov.au/api/v2/catalog/datasets/city-of-melbourne-liveability-and-social-indicators/records/319d381781afbce43acc9c6317e92569cd18c77d\"}, {\"rel\": \"datasets\", \"href\": \"https://data.melbourne.vic.gov.au/api/v2/catalog/datasets\"}, {\"rel\": \"dataset\", \"href\": \"https://data.melbourne.vic.gov.au/api/v2/catalog/datasets/city-of-melbourne-liveability-and-social-indicators\"}], \"record\": {\"id\": \"319d381781afbce43acc9c6317e92569cd18c77d\", \"timestamp\": \"2022-11-13T10:03:30.721Z\", \"size\": 250, \"fields\": {\"type\": \"Liveability\", \"topic\": \"Finance\", \"id\": \"FIN_2\", \"indicator\": \"Capital spending as a percentage of total expenditures\", \"period\": \"FY 2017/18\", \"numerator\": \"105,256,000.00\", \"denominator\": \"541,674,000.00\", \"value\": 19.43, \"value_type\": \"Percentage\", \"sources\": \"1-3. City of Melbourne Annual Report 2017-18</th>\n",
       "      <th>2016-17</th>\n",
       "      <th>2015-16 (Local Government Victoria)\"}}}, {\"links\": [{\"rel\": \"self\", \"href\": \"https://data.melbourne.vic.gov.au/api/v2/catalog/datasets/city-of-melbourne-liveability-and-social-indicators/records/1a4fb3cf6141c075d8022ed1fa449eb6f5c498a8\"}, {\"rel\": \"datasets\", \"href\": \"https://data.melbourne.vic.gov.au/api/v2/catalog/datasets\"}, {\"rel\": \"dataset\", \"href\": \"https://data.melbourne.vic.gov.au/api/v2/catalog/datasets/city-of-melbourne-liveability-and-social-indicators\"}], \"record\": {\"id\": \"1a4fb3cf6141c075d8022ed1fa449eb6f5c498a8\", \"timestamp\": \"2022-11-13T10:03:30.721Z\", \"size\": 248, \"fields\": {\"type\": \"Liveability\", \"topic\": \"Finance\", \"id\": \"FIN_3\", \"indicator\": \"Own-source revenue as a percentage of total revenues\", \"period\": \"FY 2017/18\", \"numerator\": \"420,287,000.00\", \"denominator\": \"469,828,000.00\", \"value\": 89.46, \"value_type\": \"Percentage\", \"sources\": \"1-3. City of Melbourne Annual Report 2017-18</th>\n",
       "      <th>2016-17.1</th>\n",
       "      <th>2015-16 (Local Government Victoria)\"}}}]}</th>\n",
       "    </tr>\n",
       "  </thead>\n",
       "  <tbody>\n",
       "  </tbody>\n",
       "</table>\n",
       "</div>"
      ],
      "text/plain": [
       "Empty DataFrame\n",
       "Columns: [{\"total_count\": 319, \"links\": [{\"rel\": \"self\", \"href\": \"https://data.melbourne.vic.gov.au/api/v2/catalog/datasets/city-of-melbourne-liveability-and-social-indicators/records?limit=10&offset=0&timezone=UTC&include_app_metas=False\"}, {\"rel\": \"first\", \"href\": \"https://data.melbourne.vic.gov.au/api/v2/catalog/datasets/city-of-melbourne-liveability-and-social-indicators/records?limit=10&offset=0&timezone=UTC&include_app_metas=False\"}, {\"rel\": \"last\", \"href\": \"https://data.melbourne.vic.gov.au/api/v2/catalog/datasets/city-of-melbourne-liveability-and-social-indicators/records?limit=10&offset=310&timezone=UTC&include_app_metas=False\"}, {\"rel\": \"next\", \"href\": \"https://data.melbourne.vic.gov.au/api/v2/catalog/datasets/city-of-melbourne-liveability-and-social-indicators/records?limit=10&offset=10&timezone=UTC&include_app_metas=False\"}], \"records\": [{\"links\": [{\"rel\": \"self\", \"href\": \"https://data.melbourne.vic.gov.au/api/v2/catalog/datasets/city-of-melbourne-liveability-and-social-indicators/records/f03f0756ecb6d14ac77ee023f16c557ab0c7b382\"}, {\"rel\": \"datasets\", \"href\": \"https://data.melbourne.vic.gov.au/api/v2/catalog/datasets\"}, {\"rel\": \"dataset\", \"href\": \"https://data.melbourne.vic.gov.au/api/v2/catalog/datasets/city-of-melbourne-liveability-and-social-indicators\"}], \"record\": {\"id\": \"f03f0756ecb6d14ac77ee023f16c557ab0c7b382\", \"timestamp\": \"2022-11-13T10:03:30.721Z\", \"size\": 250, \"fields\": {\"type\": \"Liveability\", \"topic\": \"Economy\", \"id\": \"ECO_1\", \"indicator\": \"City's unemployment rate\", \"period\": \"2018 (June Qtr)\", \"numerator\": \"3,923\", \"denominator\": \"100,789\", \"value\": 3.89, \"value_type\": \"Percentage\", \"sources\": \"Australian Government Department of Employment, Local Government Area (LGA) Data tables, Small Area Labour Markets, June Quarter 2018\"}}}, {\"links\": [{\"rel\": \"self\", \"href\": \"https://data.melbourne.vic.gov.au/api/v2/catalog/datasets/city-of-melbourne-liveability-and-social-indicators/records/00a2dd0aaca08608c22c2f5f1d10f8455d2331ce\"}, {\"rel\": \"datasets\", \"href\": \"https://data.melbourne.vic.gov.au/api/v2/catalog/datasets\"}, {\"rel\": \"dataset\", \"href\": \"https://data.melbourne.vic.gov.au/api/v2/catalog/datasets/city-of-melbourne-liveability-and-social-indicators\"}], \"record\": {\"id\": \"00a2dd0aaca08608c22c2f5f1d10f8455d2331ce\", \"timestamp\": \"2022-11-13T10:03:30.721Z\", \"size\": 249, \"fields\": {\"type\": \"Liveability\", \"topic\": \"Economy\", \"id\": \"ECO_1\", \"indicator\": \"City's unemployment rate\", \"period\": \"2017 (June Qtr)\", \"numerator\": \"3,719\", \"denominator\": \"96,258\", \"value\": 3.86, \"value_type\": \"Percentage\", \"sources\": \"Australian Government Department of Employment, Local Government Area (LGA) Data tables, Small Area Labour Markets, June Quarter 2018\"}}}, {\"links\": [{\"rel\": \"self\", \"href\": \"https://data.melbourne.vic.gov.au/api/v2/catalog/datasets/city-of-melbourne-liveability-and-social-indicators/records/56c691f63d52b2a7ae4124bfced5e10e413c8997\"}, {\"rel\": \"datasets\", \"href\": \"https://data.melbourne.vic.gov.au/api/v2/catalog/datasets\"}, {\"rel\": \"dataset\", \"href\": \"https://data.melbourne.vic.gov.au/api/v2/catalog/datasets/city-of-melbourne-liveability-and-social-indicators\"}], \"record\": {\"id\": \"56c691f63d52b2a7ae4124bfced5e10e413c8997\", \"timestamp\": \"2022-11-13T10:03:30.721Z\", \"size\": 202, \"fields\": {\"type\": \"Liveability\", \"topic\": \"Economy\", \"id\": \"ECO_3\", \"indicator\": \"Percentage of city population living in poverty\", \"period\": \"2016\", \"numerator\": \"13,804\", \"denominator\": \"146,096\", \"value\": 9.45, \"value_type\": \"Percentage\", \"sources\": \"Geografia, Relative Poverty and Employment Measures, 2018 (commissioned)\"}}}, {\"links\": [{\"rel\": \"self\", \"href\": \"https://data.melbourne.vic.gov.au/api/v2/catalog/datasets/city-of-melbourne-liveability-and-social-indicators/records/0af5bd9f48546d1a181d8d2ede587761d60cd897\"}, {\"rel\": \"datasets\", \"href\": \"https://data.melbourne.vic.gov.au/api/v2/catalog/datasets\"}, {\"rel\": \"dataset\", \"href\": \"https://data.melbourne.vic.gov.au/api/v2/catalog/datasets/city-of-melbourne-liveability-and-social-indicators\"}], \"record\": {\"id\": \"0af5bd9f48546d1a181d8d2ede587761d60cd897\", \"timestamp\": \"2022-11-13T10:03:30.721Z\", \"size\": 230, \"fields\": {\"type\": \"Liveability\", \"topic\": \"Economy\", \"id\": \"ECO_4\", \"indicator\": \"Percentage of persons (city population) in full-time employment\", \"period\": \"2016 (June Qtr)\", \"numerator\": \"62,760\", \"denominator\": \"146,096\", \"value\": 42.96, \"value_type\": \"Percentage\", \"sources\": \"Geografia, Relative Poverty and Employment Measures, 2018 (commissioned)\"}}}, {\"links\": [{\"rel\": \"self\", \"href\": \"https://data.melbourne.vic.gov.au/api/v2/catalog/datasets/city-of-melbourne-liveability-and-social-indicators/records/2e17a4f467cfb6775a48fc64d125e3c5692c1835\"}, {\"rel\": \"datasets\", \"href\": \"https://data.melbourne.vic.gov.au/api/v2/catalog/datasets\"}, {\"rel\": \"dataset\", \"href\": \"https://data.melbourne.vic.gov.au/api/v2/catalog/datasets/city-of-melbourne-liveability-and-social-indicators\"}], \"record\": {\"id\": \"2e17a4f467cfb6775a48fc64d125e3c5692c1835\", \"timestamp\": \"2022-11-13T10:03:30.721Z\", \"size\": 230, \"fields\": {\"type\": \"Liveability\", \"topic\": \"Economy\", \"id\": \"ECO_4\", \"indicator\": \"Percentage of persons (city population) in full-time employment\", \"period\": \"2015 (June Qtr)\", \"numerator\": \"58,669\", \"denominator\": \"136,872\", \"value\": 42.86, \"value_type\": \"Percentage\", \"sources\": \"Geografia, Relative Poverty and Employment Measures, 2018 (commissioned)\"}}}, {\"links\": [{\"rel\": \"self\", \"href\": \"https://data.melbourne.vic.gov.au/api/v2/catalog/datasets/city-of-melbourne-liveability-and-social-indicators/records/aee4ec21bf678a827d27db32a9c236c14da97844\"}, {\"rel\": \"datasets\", \"href\": \"https://data.melbourne.vic.gov.au/api/v2/catalog/datasets\"}, {\"rel\": \"dataset\", \"href\": \"https://data.melbourne.vic.gov.au/api/v2/catalog/datasets/city-of-melbourne-liveability-and-social-indicators\"}], \"record\": {\"id\": \"aee4ec21bf678a827d27db32a9c236c14da97844\", \"timestamp\": \"2022-11-13T10:03:30.721Z\", \"size\": 193, \"fields\": {\"type\": \"Liveability\", \"topic\": \"Economy\", \"id\": \"ECO_5\", \"indicator\": \"Youth unemployment rate\", \"period\": \"2017 (June Qtr)\", \"numerator\": \"1,343.01\", \"denominator\": \"15,313.82\", \"value\": 8.77, \"value_type\": \"Percentage\", \"sources\": \"Geografia, Relative Poverty and Employment Measures, 2018 (commissioned)\"}}}, {\"links\": [{\"rel\": \"self\", \"href\": \"https://data.melbourne.vic.gov.au/api/v2/catalog/datasets/city-of-melbourne-liveability-and-social-indicators/records/47af3487d802d9a4ea7e7aa403d0dd9615f07c1a\"}, {\"rel\": \"datasets\", \"href\": \"https://data.melbourne.vic.gov.au/api/v2/catalog/datasets\"}, {\"rel\": \"dataset\", \"href\": \"https://data.melbourne.vic.gov.au/api/v2/catalog/datasets/city-of-melbourne-liveability-and-social-indicators\"}], \"record\": {\"id\": \"47af3487d802d9a4ea7e7aa403d0dd9615f07c1a\", \"timestamp\": \"2022-11-13T10:03:30.721Z\", \"size\": 333, \"fields\": {\"type\": \"Liveability\", \"topic\": \"Economy\", \"id\": \"ECO_6\", \"indicator\": \"Number of businesses per 100,000 people\", \"period\": \"2015 (at 30 June)\", \"numerator\": \"13,760\", \"denominator\": \"1.37\", \"value\": 10053.19, \"value_type\": \"Number\", \"sources\": \"1. Australian Bureau of Statistics, 8165.0 Counts of Australian Businesses, including Entries and Exits, June 2015 to June 2017\\n2. Australian Bureau of Statistics, ERP by LGA (ASGS 2018), 2001 to 2018\"}}}, {\"links\": [{\"rel\": \"self\", \"href\": \"https://data.melbourne.vic.gov.au/api/v2/catalog/datasets/city-of-melbourne-liveability-and-social-indicators/records/16650fe130111fa4bbe986995141b9820ab73c06\"}, {\"rel\": \"datasets\", \"href\": \"https://data.melbourne.vic.gov.au/api/v2/catalog/datasets\"}, {\"rel\": \"dataset\", \"href\": \"https://data.melbourne.vic.gov.au/api/v2/catalog/datasets/city-of-melbourne-liveability-and-social-indicators\"}], \"record\": {\"id\": \"16650fe130111fa4bbe986995141b9820ab73c06\", \"timestamp\": \"2022-11-13T10:03:30.721Z\", \"size\": 262, \"fields\": {\"type\": \"Liveability\", \"topic\": \"Economy\", \"id\": \"ECO_7\", \"indicator\": \"Number of new patents per 100,000 people per year\", \"period\": \"2016\", \"numerator\": \"125\", \"denominator\": \"1.46\", \"value\": 85.56, \"value_type\": \"Number\", \"sources\": \"1. IP Australia, Intellectual Property Government Open Data, 2018\\n2. Australian Bureau of Statistics, ERP by LGA (ASGS 2018), 2001 to 2018\"}}}, {\"links\": [{\"rel\": \"self\", \"href\": \"https://data.melbourne.vic.gov.au/api/v2/catalog/datasets/city-of-melbourne-liveability-and-social-indicators/records/319d381781afbce43acc9c6317e92569cd18c77d\"}, {\"rel\": \"datasets\", \"href\": \"https://data.melbourne.vic.gov.au/api/v2/catalog/datasets\"}, {\"rel\": \"dataset\", \"href\": \"https://data.melbourne.vic.gov.au/api/v2/catalog/datasets/city-of-melbourne-liveability-and-social-indicators\"}], \"record\": {\"id\": \"319d381781afbce43acc9c6317e92569cd18c77d\", \"timestamp\": \"2022-11-13T10:03:30.721Z\", \"size\": 250, \"fields\": {\"type\": \"Liveability\", \"topic\": \"Finance\", \"id\": \"FIN_2\", \"indicator\": \"Capital spending as a percentage of total expenditures\", \"period\": \"FY 2017/18\", \"numerator\": \"105,256,000.00\", \"denominator\": \"541,674,000.00\", \"value\": 19.43, \"value_type\": \"Percentage\", \"sources\": \"1-3. City of Melbourne Annual Report 2017-18,  2016-17,  2015-16 (Local Government Victoria)\"}}}, {\"links\": [{\"rel\": \"self\", \"href\": \"https://data.melbourne.vic.gov.au/api/v2/catalog/datasets/city-of-melbourne-liveability-and-social-indicators/records/1a4fb3cf6141c075d8022ed1fa449eb6f5c498a8\"}, {\"rel\": \"datasets\", \"href\": \"https://data.melbourne.vic.gov.au/api/v2/catalog/datasets\"}, {\"rel\": \"dataset\", \"href\": \"https://data.melbourne.vic.gov.au/api/v2/catalog/datasets/city-of-melbourne-liveability-and-social-indicators\"}], \"record\": {\"id\": \"1a4fb3cf6141c075d8022ed1fa449eb6f5c498a8\", \"timestamp\": \"2022-11-13T10:03:30.721Z\", \"size\": 248, \"fields\": {\"type\": \"Liveability\", \"topic\": \"Finance\", \"id\": \"FIN_3\", \"indicator\": \"Own-source revenue as a percentage of total revenues\", \"period\": \"FY 2017/18\", \"numerator\": \"420,287,000.00\", \"denominator\": \"469,828,000.00\", \"value\": 89.46, \"value_type\": \"Percentage\", \"sources\": \"1-3. City of Melbourne Annual Report 2017-18,  2016-17.1,  2015-16 (Local Government Victoria)\"}}}]}]\n",
       "Index: []"
      ]
     },
     "execution_count": 12,
     "metadata": {},
     "output_type": "execute_result"
    }
   ],
   "source": [
    "mel_liv_indicator\n"
   ]
  },
  {
   "cell_type": "code",
   "execution_count": 13,
   "metadata": {},
   "outputs": [
    {
     "name": "stdout",
     "output_type": "stream",
     "text": [
      "The shape of dataset is (0, 5).\n"
     ]
    }
   ],
   "source": [
    "# Retrieve the \"City of Melbourne Liveability and Social Indicators\" dataset\n",
    "\n",
    "print(f'The shape of dataset is {mel_liv_indicator.shape}.')\n"
   ]
  },
  {
   "cell_type": "code",
   "execution_count": 14,
   "metadata": {},
   "outputs": [],
   "source": [
    "# https://data.melbourne.vic.gov.au/api/v2/catalog/datasets/indicators-of-wellbeing-by-year-future-melbourne/records?limit=10&offset=0&timezone=UTC\n"
   ]
  },
  {
   "cell_type": "code",
   "execution_count": 18,
   "metadata": {},
   "outputs": [],
   "source": [
    "wellbeing_indicator = pd.read_csv(\"https://data.melbourne.vic.gov.au/api/v2/catalog/datasets/indicators-of-wellbeing-by-year-future-melbourne/records?limit=10&offset=0&timezone=UTC\", sep=\";\")\n"
   ]
  },
  {
   "cell_type": "code",
   "execution_count": 19,
   "metadata": {},
   "outputs": [
    {
     "data": {
      "text/html": [
       "<div>\n",
       "<style scoped>\n",
       "    .dataframe tbody tr th:only-of-type {\n",
       "        vertical-align: middle;\n",
       "    }\n",
       "\n",
       "    .dataframe tbody tr th {\n",
       "        vertical-align: top;\n",
       "    }\n",
       "\n",
       "    .dataframe thead th {\n",
       "        text-align: right;\n",
       "    }\n",
       "</style>\n",
       "<table border=\"1\" class=\"dataframe\">\n",
       "  <thead>\n",
       "    <tr style=\"text-align: right;\">\n",
       "      <th></th>\n",
       "      <th>{\"total_count\": 88, \"links\": [{\"rel\": \"self\", \"href\": \"https://data.melbourne.vic.gov.au/api/v2/catalog/datasets/indicators-of-wellbeing-by-year-future-melbourne/records?limit=10&amp;offset=0&amp;timezone=UTC&amp;include_app_metas=False\"}, {\"rel\": \"first\", \"href\": \"https://data.melbourne.vic.gov.au/api/v2/catalog/datasets/indicators-of-wellbeing-by-year-future-melbourne/records?limit=10&amp;offset=0&amp;timezone=UTC&amp;include_app_metas=False\"}, {\"rel\": \"last\", \"href\": \"https://data.melbourne.vic.gov.au/api/v2/catalog/datasets/indicators-of-wellbeing-by-year-future-melbourne/records?limit=10&amp;offset=80&amp;timezone=UTC&amp;include_app_metas=False\"}, {\"rel\": \"next\", \"href\": \"https://data.melbourne.vic.gov.au/api/v2/catalog/datasets/indicators-of-wellbeing-by-year-future-melbourne/records?limit=10&amp;offset=10&amp;timezone=UTC&amp;include_app_metas=False\"}], \"records\": [{\"links\": [{\"rel\": \"self\", \"href\": \"https://data.melbourne.vic.gov.au/api/v2/catalog/datasets/indicators-of-wellbeing-by-year-future-melbourne/records/b9c0564324600778c5a7340707cc629f7cb83a92\"}, {\"rel\": \"datasets\", \"href\": \"https://data.melbourne.vic.gov.au/api/v2/catalog/datasets\"}, {\"rel\": \"dataset\", \"href\": \"https://data.melbourne.vic.gov.au/api/v2/catalog/datasets/indicators-of-wellbeing-by-year-future-melbourne\"}], \"record\": {\"id\": \"b9c0564324600778c5a7340707cc629f7cb83a92\", \"timestamp\": \"2022-11-13T10:02:21.257Z\", \"size\": 150, \"fields\": {\"indicator_label\": \"Health\", \"indicator_description\": \"How satisfied people feel with their health (average out of 100)\", \"unit\": \"%\", \"2012\": 77.9, \"2013\": 78.9, \"2014\": 78.4, \"2015\": 77.2, \"2016\": 78.6, \"population\": \"Resident\", \"source\": \"Future Melbourne Social Survey\"}}}, {\"links\": [{\"rel\": \"self\", \"href\": \"https://data.melbourne.vic.gov.au/api/v2/catalog/datasets/indicators-of-wellbeing-by-year-future-melbourne/records/6d6d1746ac1287f1ae54db9055c1562ca2d5f65d\"}, {\"rel\": \"datasets\", \"href\": \"https://data.melbourne.vic.gov.au/api/v2/catalog/datasets\"}, {\"rel\": \"dataset\", \"href\": \"https://data.melbourne.vic.gov.au/api/v2/catalog/datasets/indicators-of-wellbeing-by-year-future-melbourne\"}], \"record\": {\"id\": \"6d6d1746ac1287f1ae54db9055c1562ca2d5f65d\", \"timestamp\": \"2022-11-13T10:02:21.257Z\", \"size\": 202, \"fields\": {\"indicator_label\": \"Currently achieving in life\", \"indicator_description\": \"How satisfied people feel with what people are currently achieving in life (average out of 100)\", \"unit\": \"%\", \"2012\": 73.5, \"2013\": 74.8, \"2014\": 74.3, \"2015\": 74.6, \"2016\": 75.1, \"population\": \"Resident\", \"source\": \"Future Melbourne Social Survey\"}}}, {\"links\": [{\"rel\": \"self\", \"href\": \"https://data.melbourne.vic.gov.au/api/v2/catalog/datasets/indicators-of-wellbeing-by-year-future-melbourne/records/4e8dcc95a3bce8e20fcf26435fc8f40dfef240f2\"}, {\"rel\": \"datasets\", \"href\": \"https://data.melbourne.vic.gov.au/api/v2/catalog/datasets\"}, {\"rel\": \"dataset\", \"href\": \"https://data.melbourne.vic.gov.au/api/v2/catalog/datasets/indicators-of-wellbeing-by-year-future-melbourne\"}], \"record\": {\"id\": \"4e8dcc95a3bce8e20fcf26435fc8f40dfef240f2\", \"timestamp\": \"2022-11-13T10:02:21.257Z\", \"size\": 189, \"fields\": {\"indicator_label\": \"Personal relationships (Male)\", \"indicator_description\": \"How satisfied people feel with their personal relationships (average out of 100)\", \"unit\": \"%\", \"2012\": 76.2, \"2013\": 78.4, \"2014\": 81.6, \"2015\": 78.1, \"2016\": 77.4, \"population\": \"Resident\", \"source\": \"Future Melbourne Social Survey\"}}}, {\"links\": [{\"rel\": \"self\", \"href\": \"https://data.melbourne.vic.gov.au/api/v2/catalog/datasets/indicators-of-wellbeing-by-year-future-melbourne/records/519aa93dc52d1874d38065b30f084ab55a098f88\"}, {\"rel\": \"datasets\", \"href\": \"https://data.melbourne.vic.gov.au/api/v2/catalog/datasets\"}, {\"rel\": \"dataset\", \"href\": \"https://data.melbourne.vic.gov.au/api/v2/catalog/datasets/indicators-of-wellbeing-by-year-future-melbourne\"}], \"record\": {\"id\": \"519aa93dc52d1874d38065b30f084ab55a098f88\", \"timestamp\": \"2022-11-13T10:02:21.257Z\", \"size\": 183, \"fields\": {\"indicator_label\": \"Community connectedness\", \"indicator_description\": \"How satisfied people are with feeling part of the community (average out of 100)\", \"unit\": \"%\", \"2012\": 67.4, \"2013\": 68.4, \"2014\": 70.4, \"2015\": 70.7, \"2016\": 68.9, \"population\": \"Resident\", \"source\": \"Future Melbourne Social Survey\"}}}, {\"links\": [{\"rel\": \"self\", \"href\": \"https://data.melbourne.vic.gov.au/api/v2/catalog/datasets/indicators-of-wellbeing-by-year-future-melbourne/records/de3d83ba91ac054d1b1ba0c2bf02e1b4309cc71b\"}, {\"rel\": \"datasets\", \"href\": \"https://data.melbourne.vic.gov.au/api/v2/catalog/datasets\"}, {\"rel\": \"dataset\", \"href\": \"https://data.melbourne.vic.gov.au/api/v2/catalog/datasets/indicators-of-wellbeing-by-year-future-melbourne\"}], \"record\": {\"id\": \"de3d83ba91ac054d1b1ba0c2bf02e1b4309cc71b\", \"timestamp\": \"2022-11-13T10:02:21.257Z\", \"size\": 190, \"fields\": {\"indicator_label\": \"Community connectedness (Male)\", \"indicator_description\": \"How satisfied people are with feeling part of the community (average out of 100)\", \"unit\": \"%\", \"2012\": 66.9, \"2013\": 69.1, \"2014\": 69.5, \"2015\": 70.6, \"2016\": 67.6, \"population\": \"Resident\", \"source\": \"Future Melbourne Social Survey\"}}}, {\"links\": [{\"rel\": \"self\", \"href\": \"https://data.melbourne.vic.gov.au/api/v2/catalog/datasets/indicators-of-wellbeing-by-year-future-melbourne/records/0c03fb073bd5bd3947f1d6c282c1cbed9908bb9d\"}, {\"rel\": \"datasets\", \"href\": \"https://data.melbourne.vic.gov.au/api/v2/catalog/datasets\"}, {\"rel\": \"dataset\", \"href\": \"https://data.melbourne.vic.gov.au/api/v2/catalog/datasets/indicators-of-wellbeing-by-year-future-melbourne\"}], \"record\": {\"id\": \"0c03fb073bd5bd3947f1d6c282c1cbed9908bb9d\", \"timestamp\": \"2022-11-13T10:02:21.257Z\", \"size\": 192, \"fields\": {\"indicator_label\": \"Community connectedness (Female)\", \"indicator_description\": \"How satisfied people are with feeling part of the community (average out of 100)\", \"unit\": \"%\", \"2012\": 67.9, \"2013\": 67.7, \"2014\": 71.2, \"2015\": 70.8, \"2016\": 70.0, \"population\": \"Resident\", \"source\": \"Future Melbourne Social Survey\"}}}, {\"links\": [{\"rel\": \"self\", \"href\": \"https://data.melbourne.vic.gov.au/api/v2/catalog/datasets/indicators-of-wellbeing-by-year-future-melbourne/records/0d009ca46d9e7e8eedac35a334246b541a31b4b5\"}, {\"rel\": \"datasets\", \"href\": \"https://data.melbourne.vic.gov.au/api/v2/catalog/datasets\"}, {\"rel\": \"dataset\", \"href\": \"https://data.melbourne.vic.gov.au/api/v2/catalog/datasets/indicators-of-wellbeing-by-year-future-melbourne\"}], \"record\": {\"id\": \"0d009ca46d9e7e8eedac35a334246b541a31b4b5\", \"timestamp\": \"2022-11-13T10:02:21.257Z\", \"size\": 201, \"fields\": {\"indicator_label\": \"Community connectedness (36 yrs and over)\", \"indicator_description\": \"How satisfied people are with feeling part of the community (average out of 100)\", \"unit\": \"%\", \"2012\": 69.6, \"2013\": 71.9, \"2014\": 71.4, \"2015\": 73.0, \"2016\": 69.9, \"population\": \"Resident\", \"source\": \"Future Melbourne Social Survey\"}}}, {\"links\": [{\"rel\": \"self\", \"href\": \"https://data.melbourne.vic.gov.au/api/v2/catalog/datasets/indicators-of-wellbeing-by-year-future-melbourne/records/ddc7fad02f1adba99f4f89894c622eaec55581ab\"}, {\"rel\": \"datasets\", \"href\": \"https://data.melbourne.vic.gov.au/api/v2/catalog/datasets\"}, {\"rel\": \"dataset\", \"href\": \"https://data.melbourne.vic.gov.au/api/v2/catalog/datasets/indicators-of-wellbeing-by-year-future-melbourne\"}], \"record\": {\"id\": \"ddc7fad02f1adba99f4f89894c622eaec55581ab\", \"timestamp\": \"2022-11-13T10:02:21.257Z\", \"size\": 183, \"fields\": {\"indicator_label\": \"Self-reported health (age standardised 18-35 yrs)\", \"indicator_description\": \"People Self-Reporting Health as Excellent or Very Good\", \"unit\": \"%\", \"2012\": 59.9, \"2013\": 68.9, \"2014\": 62.7, \"2015\": 61.6, \"2016\": 58.0, \"population\": \"Resident\", \"source\": \"Future Melbourne Social Survey\"}}}, {\"links\": [{\"rel\": \"self\", \"href\": \"https://data.melbourne.vic.gov.au/api/v2/catalog/datasets/indicators-of-wellbeing-by-year-future-melbourne/records/b015af83bf0e490cdfe60f60782da026a5c361f1\"}, {\"rel\": \"datasets\", \"href\": \"https://data.melbourne.vic.gov.au/api/v2/catalog/datasets\"}, {\"rel\": \"dataset\", \"href\": \"https://data.melbourne.vic.gov.au/api/v2/catalog/datasets/indicators-of-wellbeing-by-year-future-melbourne\"}], \"record\": {\"id\": \"b015af83bf0e490cdfe60f60782da026a5c361f1\", \"timestamp\": \"2022-11-13T10:02:21.257Z\", \"size\": 197, \"fields\": {\"indicator_label\": \"Perceptions of safety - daytime (18-39 yrs)\", \"indicator_description\": \"People Who Feel Safe or Very Safe in public spaces and places During the Day\", \"unit\": \"%\", \"2012\": null, \"2013\": null, \"2014\": 97.4, \"2015\": 98.1, \"2016\": 90.7, \"population\": \"City users\", \"source\": \"Council Plan Intercept Social Survey\"}}}, {\"links\": [{\"rel\": \"self\", \"href\": \"https://data.melbourne.vic.gov.au/api/v2/catalog/datasets/indicators-of-wellbeing-by-year-future-melbourne/records/816d72965a0bd94500e6dd08455d97031e3673d3\"}, {\"rel\": \"datasets\", \"href\": \"https://data.melbourne.vic.gov.au/api/v2/catalog/datasets\"}, {\"rel\": \"dataset\", \"href\": \"https://data.melbourne.vic.gov.au/api/v2/catalog/datasets/indicators-of-wellbeing-by-year-future-melbourne\"}], \"record\": {\"id\": \"816d72965a0bd94500e6dd08455d97031e3673d3\", \"timestamp\": \"2022-11-13T10:02:21.257Z\", \"size\": 200, \"fields\": {\"indicator_label\": \"Perceptions of safety - night time (18-39 yrs)\", \"indicator_description\": \"People Who Feel Safe or Very Safe in public spaces and places alone at night\", \"unit\": \"%\", \"2012\": null, \"2013\": null, \"2014\": 55.0, \"2015\": 63.7, \"2016\": 65.1, \"population\": \"City users\", \"source\": \"Council Plan Intercept Social Survey\"}}}]}</th>\n",
       "    </tr>\n",
       "  </thead>\n",
       "  <tbody>\n",
       "  </tbody>\n",
       "</table>\n",
       "</div>"
      ],
      "text/plain": [
       "Empty DataFrame\n",
       "Columns: [{\"total_count\": 88, \"links\": [{\"rel\": \"self\", \"href\": \"https://data.melbourne.vic.gov.au/api/v2/catalog/datasets/indicators-of-wellbeing-by-year-future-melbourne/records?limit=10&offset=0&timezone=UTC&include_app_metas=False\"}, {\"rel\": \"first\", \"href\": \"https://data.melbourne.vic.gov.au/api/v2/catalog/datasets/indicators-of-wellbeing-by-year-future-melbourne/records?limit=10&offset=0&timezone=UTC&include_app_metas=False\"}, {\"rel\": \"last\", \"href\": \"https://data.melbourne.vic.gov.au/api/v2/catalog/datasets/indicators-of-wellbeing-by-year-future-melbourne/records?limit=10&offset=80&timezone=UTC&include_app_metas=False\"}, {\"rel\": \"next\", \"href\": \"https://data.melbourne.vic.gov.au/api/v2/catalog/datasets/indicators-of-wellbeing-by-year-future-melbourne/records?limit=10&offset=10&timezone=UTC&include_app_metas=False\"}], \"records\": [{\"links\": [{\"rel\": \"self\", \"href\": \"https://data.melbourne.vic.gov.au/api/v2/catalog/datasets/indicators-of-wellbeing-by-year-future-melbourne/records/b9c0564324600778c5a7340707cc629f7cb83a92\"}, {\"rel\": \"datasets\", \"href\": \"https://data.melbourne.vic.gov.au/api/v2/catalog/datasets\"}, {\"rel\": \"dataset\", \"href\": \"https://data.melbourne.vic.gov.au/api/v2/catalog/datasets/indicators-of-wellbeing-by-year-future-melbourne\"}], \"record\": {\"id\": \"b9c0564324600778c5a7340707cc629f7cb83a92\", \"timestamp\": \"2022-11-13T10:02:21.257Z\", \"size\": 150, \"fields\": {\"indicator_label\": \"Health\", \"indicator_description\": \"How satisfied people feel with their health (average out of 100)\", \"unit\": \"%\", \"2012\": 77.9, \"2013\": 78.9, \"2014\": 78.4, \"2015\": 77.2, \"2016\": 78.6, \"population\": \"Resident\", \"source\": \"Future Melbourne Social Survey\"}}}, {\"links\": [{\"rel\": \"self\", \"href\": \"https://data.melbourne.vic.gov.au/api/v2/catalog/datasets/indicators-of-wellbeing-by-year-future-melbourne/records/6d6d1746ac1287f1ae54db9055c1562ca2d5f65d\"}, {\"rel\": \"datasets\", \"href\": \"https://data.melbourne.vic.gov.au/api/v2/catalog/datasets\"}, {\"rel\": \"dataset\", \"href\": \"https://data.melbourne.vic.gov.au/api/v2/catalog/datasets/indicators-of-wellbeing-by-year-future-melbourne\"}], \"record\": {\"id\": \"6d6d1746ac1287f1ae54db9055c1562ca2d5f65d\", \"timestamp\": \"2022-11-13T10:02:21.257Z\", \"size\": 202, \"fields\": {\"indicator_label\": \"Currently achieving in life\", \"indicator_description\": \"How satisfied people feel with what people are currently achieving in life (average out of 100)\", \"unit\": \"%\", \"2012\": 73.5, \"2013\": 74.8, \"2014\": 74.3, \"2015\": 74.6, \"2016\": 75.1, \"population\": \"Resident\", \"source\": \"Future Melbourne Social Survey\"}}}, {\"links\": [{\"rel\": \"self\", \"href\": \"https://data.melbourne.vic.gov.au/api/v2/catalog/datasets/indicators-of-wellbeing-by-year-future-melbourne/records/4e8dcc95a3bce8e20fcf26435fc8f40dfef240f2\"}, {\"rel\": \"datasets\", \"href\": \"https://data.melbourne.vic.gov.au/api/v2/catalog/datasets\"}, {\"rel\": \"dataset\", \"href\": \"https://data.melbourne.vic.gov.au/api/v2/catalog/datasets/indicators-of-wellbeing-by-year-future-melbourne\"}], \"record\": {\"id\": \"4e8dcc95a3bce8e20fcf26435fc8f40dfef240f2\", \"timestamp\": \"2022-11-13T10:02:21.257Z\", \"size\": 189, \"fields\": {\"indicator_label\": \"Personal relationships (Male)\", \"indicator_description\": \"How satisfied people feel with their personal relationships (average out of 100)\", \"unit\": \"%\", \"2012\": 76.2, \"2013\": 78.4, \"2014\": 81.6, \"2015\": 78.1, \"2016\": 77.4, \"population\": \"Resident\", \"source\": \"Future Melbourne Social Survey\"}}}, {\"links\": [{\"rel\": \"self\", \"href\": \"https://data.melbourne.vic.gov.au/api/v2/catalog/datasets/indicators-of-wellbeing-by-year-future-melbourne/records/519aa93dc52d1874d38065b30f084ab55a098f88\"}, {\"rel\": \"datasets\", \"href\": \"https://data.melbourne.vic.gov.au/api/v2/catalog/datasets\"}, {\"rel\": \"dataset\", \"href\": \"https://data.melbourne.vic.gov.au/api/v2/catalog/datasets/indicators-of-wellbeing-by-year-future-melbourne\"}], \"record\": {\"id\": \"519aa93dc52d1874d38065b30f084ab55a098f88\", \"timestamp\": \"2022-11-13T10:02:21.257Z\", \"size\": 183, \"fields\": {\"indicator_label\": \"Community connectedness\", \"indicator_description\": \"How satisfied people are with feeling part of the community (average out of 100)\", \"unit\": \"%\", \"2012\": 67.4, \"2013\": 68.4, \"2014\": 70.4, \"2015\": 70.7, \"2016\": 68.9, \"population\": \"Resident\", \"source\": \"Future Melbourne Social Survey\"}}}, {\"links\": [{\"rel\": \"self\", \"href\": \"https://data.melbourne.vic.gov.au/api/v2/catalog/datasets/indicators-of-wellbeing-by-year-future-melbourne/records/de3d83ba91ac054d1b1ba0c2bf02e1b4309cc71b\"}, {\"rel\": \"datasets\", \"href\": \"https://data.melbourne.vic.gov.au/api/v2/catalog/datasets\"}, {\"rel\": \"dataset\", \"href\": \"https://data.melbourne.vic.gov.au/api/v2/catalog/datasets/indicators-of-wellbeing-by-year-future-melbourne\"}], \"record\": {\"id\": \"de3d83ba91ac054d1b1ba0c2bf02e1b4309cc71b\", \"timestamp\": \"2022-11-13T10:02:21.257Z\", \"size\": 190, \"fields\": {\"indicator_label\": \"Community connectedness (Male)\", \"indicator_description\": \"How satisfied people are with feeling part of the community (average out of 100)\", \"unit\": \"%\", \"2012\": 66.9, \"2013\": 69.1, \"2014\": 69.5, \"2015\": 70.6, \"2016\": 67.6, \"population\": \"Resident\", \"source\": \"Future Melbourne Social Survey\"}}}, {\"links\": [{\"rel\": \"self\", \"href\": \"https://data.melbourne.vic.gov.au/api/v2/catalog/datasets/indicators-of-wellbeing-by-year-future-melbourne/records/0c03fb073bd5bd3947f1d6c282c1cbed9908bb9d\"}, {\"rel\": \"datasets\", \"href\": \"https://data.melbourne.vic.gov.au/api/v2/catalog/datasets\"}, {\"rel\": \"dataset\", \"href\": \"https://data.melbourne.vic.gov.au/api/v2/catalog/datasets/indicators-of-wellbeing-by-year-future-melbourne\"}], \"record\": {\"id\": \"0c03fb073bd5bd3947f1d6c282c1cbed9908bb9d\", \"timestamp\": \"2022-11-13T10:02:21.257Z\", \"size\": 192, \"fields\": {\"indicator_label\": \"Community connectedness (Female)\", \"indicator_description\": \"How satisfied people are with feeling part of the community (average out of 100)\", \"unit\": \"%\", \"2012\": 67.9, \"2013\": 67.7, \"2014\": 71.2, \"2015\": 70.8, \"2016\": 70.0, \"population\": \"Resident\", \"source\": \"Future Melbourne Social Survey\"}}}, {\"links\": [{\"rel\": \"self\", \"href\": \"https://data.melbourne.vic.gov.au/api/v2/catalog/datasets/indicators-of-wellbeing-by-year-future-melbourne/records/0d009ca46d9e7e8eedac35a334246b541a31b4b5\"}, {\"rel\": \"datasets\", \"href\": \"https://data.melbourne.vic.gov.au/api/v2/catalog/datasets\"}, {\"rel\": \"dataset\", \"href\": \"https://data.melbourne.vic.gov.au/api/v2/catalog/datasets/indicators-of-wellbeing-by-year-future-melbourne\"}], \"record\": {\"id\": \"0d009ca46d9e7e8eedac35a334246b541a31b4b5\", \"timestamp\": \"2022-11-13T10:02:21.257Z\", \"size\": 201, \"fields\": {\"indicator_label\": \"Community connectedness (36 yrs and over)\", \"indicator_description\": \"How satisfied people are with feeling part of the community (average out of 100)\", \"unit\": \"%\", \"2012\": 69.6, \"2013\": 71.9, \"2014\": 71.4, \"2015\": 73.0, \"2016\": 69.9, \"population\": \"Resident\", \"source\": \"Future Melbourne Social Survey\"}}}, {\"links\": [{\"rel\": \"self\", \"href\": \"https://data.melbourne.vic.gov.au/api/v2/catalog/datasets/indicators-of-wellbeing-by-year-future-melbourne/records/ddc7fad02f1adba99f4f89894c622eaec55581ab\"}, {\"rel\": \"datasets\", \"href\": \"https://data.melbourne.vic.gov.au/api/v2/catalog/datasets\"}, {\"rel\": \"dataset\", \"href\": \"https://data.melbourne.vic.gov.au/api/v2/catalog/datasets/indicators-of-wellbeing-by-year-future-melbourne\"}], \"record\": {\"id\": \"ddc7fad02f1adba99f4f89894c622eaec55581ab\", \"timestamp\": \"2022-11-13T10:02:21.257Z\", \"size\": 183, \"fields\": {\"indicator_label\": \"Self-reported health (age standardised 18-35 yrs)\", \"indicator_description\": \"People Self-Reporting Health as Excellent or Very Good\", \"unit\": \"%\", \"2012\": 59.9, \"2013\": 68.9, \"2014\": 62.7, \"2015\": 61.6, \"2016\": 58.0, \"population\": \"Resident\", \"source\": \"Future Melbourne Social Survey\"}}}, {\"links\": [{\"rel\": \"self\", \"href\": \"https://data.melbourne.vic.gov.au/api/v2/catalog/datasets/indicators-of-wellbeing-by-year-future-melbourne/records/b015af83bf0e490cdfe60f60782da026a5c361f1\"}, {\"rel\": \"datasets\", \"href\": \"https://data.melbourne.vic.gov.au/api/v2/catalog/datasets\"}, {\"rel\": \"dataset\", \"href\": \"https://data.melbourne.vic.gov.au/api/v2/catalog/datasets/indicators-of-wellbeing-by-year-future-melbourne\"}], \"record\": {\"id\": \"b015af83bf0e490cdfe60f60782da026a5c361f1\", \"timestamp\": \"2022-11-13T10:02:21.257Z\", \"size\": 197, \"fields\": {\"indicator_label\": \"Perceptions of safety - daytime (18-39 yrs)\", \"indicator_description\": \"People Who Feel Safe or Very Safe in public spaces and places During the Day\", \"unit\": \"%\", \"2012\": null, \"2013\": null, \"2014\": 97.4, \"2015\": 98.1, \"2016\": 90.7, \"population\": \"City users\", \"source\": \"Council Plan Intercept Social Survey\"}}}, {\"links\": [{\"rel\": \"self\", \"href\": \"https://data.melbourne.vic.gov.au/api/v2/catalog/datasets/indicators-of-wellbeing-by-year-future-melbourne/records/816d72965a0bd94500e6dd08455d97031e3673d3\"}, {\"rel\": \"datasets\", \"href\": \"https://data.melbourne.vic.gov.au/api/v2/catalog/datasets\"}, {\"rel\": \"dataset\", \"href\": \"https://data.melbourne.vic.gov.au/api/v2/catalog/datasets/indicators-of-wellbeing-by-year-future-melbourne\"}], \"record\": {\"id\": \"816d72965a0bd94500e6dd08455d97031e3673d3\", \"timestamp\": \"2022-11-13T10:02:21.257Z\", \"size\": 200, \"fields\": {\"indicator_label\": \"Perceptions of safety - night time (18-39 yrs)\", \"indicator_description\": \"People Who Feel Safe or Very Safe in public spaces and places alone at night\", \"unit\": \"%\", \"2012\": null, \"2013\": null, \"2014\": 55.0, \"2015\": 63.7, \"2016\": 65.1, \"population\": \"City users\", \"source\": \"Council Plan Intercept Social Survey\"}}}]}]\n",
       "Index: []"
      ]
     },
     "execution_count": 19,
     "metadata": {},
     "output_type": "execute_result"
    }
   ],
   "source": [
    "wellbeing_indicator"
   ]
  },
  {
   "cell_type": "code",
   "execution_count": null,
   "metadata": {},
   "outputs": [],
   "source": []
  },
  {
   "cell_type": "code",
   "execution_count": null,
   "metadata": {},
   "outputs": [],
   "source": []
  },
  {
   "cell_type": "markdown",
   "metadata": {},
   "source": [
    "***\n",
    "\n",
    "_**DELETE BEFORE PUBLISHING**_\n",
    "\n",
    "## Style guide for use cases\n",
    "\n",
    "### Headers\n",
    "\n",
    "For styling within your markdown cells, there are two choices you can use for headers.\n",
    "\n",
    "1) You can use HTML classes specific to the use case styling:\n",
    "\n",
    "```<p class=\"usecase-subsection-header\">This is a subsection header.</p>```\n",
    "\n",
    "<p style=\"font-weight: bold; font-size: 1.2em;\">This is a subsection header.</p>\n",
    "\n",
    "```<p class=\"usecase-subsection-blurb\">This is a blurb header.</p>```\n",
    "\n",
    "<p style=\"font-weight: bold; font-size: 1em; font-style:italic;\">This is a blurb header.</p>\n",
    "\n",
    "\n",
    "2) Or if you like you can use the markdown header styles:\n",
    "\n",
    "```# for h1```\n",
    "\n",
    "```## for h2```\n",
    "\n",
    "```### for h3```\n",
    "\n",
    "```#### for h4```\n",
    "\n",
    "```##### for h5```\n",
    "\n",
    "## Plot colour schemes\n",
    "\n",
    "General advice:\n",
    "1. Use the same colour or colour palette throughout your notebook, unless variety is necessary\n",
    "2. Select a palette based on the type of data being represented\n",
    "3. Consider accessibility (colourblindness, low vision)\n",
    "\n",
    "#### 1) If all of your plots only use 1-2 colors use one of the company style colors:\n",
    "\n",
    "| Light theme | Dark Theme |\n",
    "|-----|-----|\n",
    "|<p style=\"color:#2af598;\">#2af598</p>|<p style=\"color:#08af64;\">#08af64</p>|\n",
    "|<p style=\"color:#22e4ac;\">#22e4ac</p>|<p style=\"color:#14a38e;\">#14a38e</p>|\n",
    "|<p style=\"color:#1bd7bb;\">#1bd7bb</p>|<p style=\"color:#0f9295;\">#0f9295</p>|\n",
    "|<p style=\"color:#14c9cb;\">#14c9cb</p>|<p style=\"color:#056b8a;\">#056b8a</p>|\n",
    "|<p style=\"color:#0fbed8;\">#0fbed8</p>|<p style=\"color:#121212;\">#121212</p>|\n",
    "|<p style=\"color:#08b3e5;\">#08b3e5</p>||\n",
    "\n",
    "\n",
    "#### 2) If your plot needs multiple colors, choose an appropriate palette using either of the following tutorials:\n",
    "- https://seaborn.pydata.org/tutorial/color_palettes.html\n",
    "- https://matplotlib.org/stable/tutorials/colors/colormaps.html\n",
    "\n",
    "#### 3) Consider accessibility as well.\n",
    "\n",
    "For qualitative plotting Seaborn's 'colorblind' palette is recommended. For maps with sequential or diverging it is recommended to use one of the Color Brewer schemes which can be previewed at https://colorbrewer2.org/.\n",
    "\n",
    "If you want to design your own colour scheme, it should use the same principles as Cynthia Brewer's research (with variation not only in hue but also, saturation or luminance).\n",
    "\n",
    "### References\n",
    "\n",
    "Be sure to acknowledge your sources and any attributions using links or a reference list.\n",
    "\n",
    "If you have quite a few references, you might wish to have a dedicated section for references at the end of your document, linked using footnote style numbers.\n",
    "\n",
    "You can connect your in-text reference by adding the number with a HTML link: ```<a href=\"#fn-1\">[1]</a>```\n",
    "\n",
    "and add a matching ID in the reference list using the ```<fn>``` tag: ```<fn id=\"fn-1\">[1] Author (Year) _Title_, Publisher, Publication location.</fn>```"
   ]
  },
  {
   "cell_type": "markdown",
   "metadata": {},
   "source": []
  }
 ],
 "metadata": {
  "kernelspec": {
   "display_name": "Python 3 (ipykernel)",
   "language": "python",
   "name": "python3"
  },
  "language_info": {
   "codemirror_mode": {
    "name": "ipython",
    "version": 3
   },
   "file_extension": ".py",
   "mimetype": "text/x-python",
   "name": "python",
   "nbconvert_exporter": "python",
   "pygments_lexer": "ipython3",
   "version": "3.10.4"
  },
  "vscode": {
   "interpreter": {
    "hash": "369f2c481f4da34e4445cda3fffd2e751bd1c4d706f27375911949ba6bb62e1c"
   }
  }
 },
 "nbformat": 4,
 "nbformat_minor": 4
}
