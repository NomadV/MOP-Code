{
 "cells": [
  {
   "cell_type": "code",
   "execution_count": 10,
   "id": "stupid-consensus",
   "metadata": {},
   "outputs": [
    {
     "name": "stdout",
     "output_type": "stream",
     "text": [
      "Requirement already satisfied: sodapy in /opt/anaconda3/lib/python3.8/site-packages (2.1.1)\n",
      "Requirement already satisfied: requests>=2.20.0 in /opt/anaconda3/lib/python3.8/site-packages (from sodapy) (2.24.0)\n",
      "Requirement already satisfied: idna<3,>=2.5 in /opt/anaconda3/lib/python3.8/site-packages (from requests>=2.20.0->sodapy) (2.10)\n",
      "Requirement already satisfied: urllib3!=1.25.0,!=1.25.1,<1.26,>=1.21.1 in /opt/anaconda3/lib/python3.8/site-packages (from requests>=2.20.0->sodapy) (1.25.11)\n",
      "Requirement already satisfied: certifi>=2017.4.17 in /opt/anaconda3/lib/python3.8/site-packages (from requests>=2.20.0->sodapy) (2020.6.20)\n",
      "Requirement already satisfied: chardet<4,>=3.0.2 in /opt/anaconda3/lib/python3.8/site-packages (from requests>=2.20.0->sodapy) (3.0.4)\n"
     ]
    }
   ],
   "source": [
    "!pip install sodapy"
   ]
  },
  {
   "cell_type": "code",
   "execution_count": 15,
   "id": "warming-scottish",
   "metadata": {},
   "outputs": [],
   "source": [
    "from sodapy import Socrata"
   ]
  },
  {
   "cell_type": "code",
   "execution_count": 209,
   "id": "printable-pantyhose",
   "metadata": {},
   "outputs": [],
   "source": [
    "from numpy import array\n",
    "import tensorflow as tf\n",
    "import keras\n",
    "from keras.models import Sequential\n",
    "from keras.layers import LSTM\n",
    "from keras.layers import Bidirectional\n",
    "from keras.layers import Dense\n",
    "from keras.layers import Dropout\n",
    "import pandas as pd\n",
    "#from sodapy import Socrata\n",
    "\n"
   ]
  },
  {
   "cell_type": "code",
   "execution_count": 153,
   "id": "signed-demographic",
   "metadata": {},
   "outputs": [],
   "source": [
    "#Uncomment the below to open data source, download sensor data, and store it as a csv locally.\n",
    "\n",
    "##Function to get Sensor count history data\n",
    "def sensor_count():\n",
    " client = Socrata('data.melbourne.vic.gov.au', 'nlPM0PQJSjzCsbVqntjPvjB1f', None)\n",
    " sensor_data_id = \"b2ak-trbp\"\n",
    " results = client.get(sensor_data_id, limit=5000000)\n",
    " df = pd.DataFrame.from_records(results)\n",
    " df = df[['date_time', 'year', 'month', 'mdate', 'day', 'time', 'sensor_id', 'sensor_name', 'hourly_counts']]\n",
    " return df\n",
    "\n",
    "sensor_history = sensor_count()\n",
    "\n",
    "sensor_history.to_csv('sensor_history.csv', index=False)"
   ]
  },
  {
   "cell_type": "code",
   "execution_count": 167,
   "id": "comic-maine",
   "metadata": {},
   "outputs": [],
   "source": [
    "sensor_history = pd.read_csv('sensor_history.csv')"
   ]
  },
  {
   "cell_type": "code",
   "execution_count": 171,
   "id": "southwest-stream",
   "metadata": {},
   "outputs": [],
   "source": [
    "single_sensor = sensor_history[sensor_history.sensor_id == 4]"
   ]
  },
  {
   "cell_type": "code",
   "execution_count": 172,
   "id": "intellectual-edgar",
   "metadata": {},
   "outputs": [
    {
     "data": {
      "text/html": [
       "<div>\n",
       "<style scoped>\n",
       "    .dataframe tbody tr th:only-of-type {\n",
       "        vertical-align: middle;\n",
       "    }\n",
       "\n",
       "    .dataframe tbody tr th {\n",
       "        vertical-align: top;\n",
       "    }\n",
       "\n",
       "    .dataframe thead th {\n",
       "        text-align: right;\n",
       "    }\n",
       "</style>\n",
       "<table border=\"1\" class=\"dataframe\">\n",
       "  <thead>\n",
       "    <tr style=\"text-align: right;\">\n",
       "      <th></th>\n",
       "      <th>date_time</th>\n",
       "      <th>year</th>\n",
       "      <th>month</th>\n",
       "      <th>mdate</th>\n",
       "      <th>day</th>\n",
       "      <th>time</th>\n",
       "      <th>sensor_id</th>\n",
       "      <th>sensor_name</th>\n",
       "      <th>hourly_counts</th>\n",
       "    </tr>\n",
       "  </thead>\n",
       "  <tbody>\n",
       "    <tr>\n",
       "      <th>26</th>\n",
       "      <td>2019-11-01T18:00:00.000</td>\n",
       "      <td>2019</td>\n",
       "      <td>November</td>\n",
       "      <td>1</td>\n",
       "      <td>Friday</td>\n",
       "      <td>18</td>\n",
       "      <td>4</td>\n",
       "      <td>Town Hall (West)</td>\n",
       "      <td>2950</td>\n",
       "    </tr>\n",
       "    <tr>\n",
       "      <th>81</th>\n",
       "      <td>2019-11-01T19:00:00.000</td>\n",
       "      <td>2019</td>\n",
       "      <td>November</td>\n",
       "      <td>1</td>\n",
       "      <td>Friday</td>\n",
       "      <td>19</td>\n",
       "      <td>4</td>\n",
       "      <td>Town Hall (West)</td>\n",
       "      <td>2345</td>\n",
       "    </tr>\n",
       "    <tr>\n",
       "      <th>137</th>\n",
       "      <td>2019-11-01T20:00:00.000</td>\n",
       "      <td>2019</td>\n",
       "      <td>November</td>\n",
       "      <td>1</td>\n",
       "      <td>Friday</td>\n",
       "      <td>20</td>\n",
       "      <td>4</td>\n",
       "      <td>Town Hall (West)</td>\n",
       "      <td>2051</td>\n",
       "    </tr>\n",
       "    <tr>\n",
       "      <th>193</th>\n",
       "      <td>2019-11-01T21:00:00.000</td>\n",
       "      <td>2019</td>\n",
       "      <td>November</td>\n",
       "      <td>1</td>\n",
       "      <td>Friday</td>\n",
       "      <td>21</td>\n",
       "      <td>4</td>\n",
       "      <td>Town Hall (West)</td>\n",
       "      <td>1715</td>\n",
       "    </tr>\n",
       "    <tr>\n",
       "      <th>248</th>\n",
       "      <td>2019-11-01T22:00:00.000</td>\n",
       "      <td>2019</td>\n",
       "      <td>November</td>\n",
       "      <td>1</td>\n",
       "      <td>Friday</td>\n",
       "      <td>22</td>\n",
       "      <td>4</td>\n",
       "      <td>Town Hall (West)</td>\n",
       "      <td>1438</td>\n",
       "    </tr>\n",
       "    <tr>\n",
       "      <th>...</th>\n",
       "      <td>...</td>\n",
       "      <td>...</td>\n",
       "      <td>...</td>\n",
       "      <td>...</td>\n",
       "      <td>...</td>\n",
       "      <td>...</td>\n",
       "      <td>...</td>\n",
       "      <td>...</td>\n",
       "      <td>...</td>\n",
       "    </tr>\n",
       "    <tr>\n",
       "      <th>4231010</th>\n",
       "      <td>2022-04-30T19:00:00.000</td>\n",
       "      <td>2022</td>\n",
       "      <td>April</td>\n",
       "      <td>30</td>\n",
       "      <td>Saturday</td>\n",
       "      <td>19</td>\n",
       "      <td>4</td>\n",
       "      <td>Town Hall (West)</td>\n",
       "      <td>1641</td>\n",
       "    </tr>\n",
       "    <tr>\n",
       "      <th>4231011</th>\n",
       "      <td>2022-04-30T20:00:00.000</td>\n",
       "      <td>2022</td>\n",
       "      <td>April</td>\n",
       "      <td>30</td>\n",
       "      <td>Saturday</td>\n",
       "      <td>20</td>\n",
       "      <td>4</td>\n",
       "      <td>Town Hall (West)</td>\n",
       "      <td>1239</td>\n",
       "    </tr>\n",
       "    <tr>\n",
       "      <th>4231012</th>\n",
       "      <td>2022-04-30T21:00:00.000</td>\n",
       "      <td>2022</td>\n",
       "      <td>April</td>\n",
       "      <td>30</td>\n",
       "      <td>Saturday</td>\n",
       "      <td>21</td>\n",
       "      <td>4</td>\n",
       "      <td>Town Hall (West)</td>\n",
       "      <td>1083</td>\n",
       "    </tr>\n",
       "    <tr>\n",
       "      <th>4231013</th>\n",
       "      <td>2022-04-30T22:00:00.000</td>\n",
       "      <td>2022</td>\n",
       "      <td>April</td>\n",
       "      <td>30</td>\n",
       "      <td>Saturday</td>\n",
       "      <td>22</td>\n",
       "      <td>4</td>\n",
       "      <td>Town Hall (West)</td>\n",
       "      <td>883</td>\n",
       "    </tr>\n",
       "    <tr>\n",
       "      <th>4231014</th>\n",
       "      <td>2022-04-30T23:00:00.000</td>\n",
       "      <td>2022</td>\n",
       "      <td>April</td>\n",
       "      <td>30</td>\n",
       "      <td>Saturday</td>\n",
       "      <td>23</td>\n",
       "      <td>4</td>\n",
       "      <td>Town Hall (West)</td>\n",
       "      <td>770</td>\n",
       "    </tr>\n",
       "  </tbody>\n",
       "</table>\n",
       "<p>107780 rows × 9 columns</p>\n",
       "</div>"
      ],
      "text/plain": [
       "                       date_time  year     month  mdate       day  time  \\\n",
       "26       2019-11-01T18:00:00.000  2019  November      1    Friday    18   \n",
       "81       2019-11-01T19:00:00.000  2019  November      1    Friday    19   \n",
       "137      2019-11-01T20:00:00.000  2019  November      1    Friday    20   \n",
       "193      2019-11-01T21:00:00.000  2019  November      1    Friday    21   \n",
       "248      2019-11-01T22:00:00.000  2019  November      1    Friday    22   \n",
       "...                          ...   ...       ...    ...       ...   ...   \n",
       "4231010  2022-04-30T19:00:00.000  2022     April     30  Saturday    19   \n",
       "4231011  2022-04-30T20:00:00.000  2022     April     30  Saturday    20   \n",
       "4231012  2022-04-30T21:00:00.000  2022     April     30  Saturday    21   \n",
       "4231013  2022-04-30T22:00:00.000  2022     April     30  Saturday    22   \n",
       "4231014  2022-04-30T23:00:00.000  2022     April     30  Saturday    23   \n",
       "\n",
       "         sensor_id       sensor_name  hourly_counts  \n",
       "26               4  Town Hall (West)           2950  \n",
       "81               4  Town Hall (West)           2345  \n",
       "137              4  Town Hall (West)           2051  \n",
       "193              4  Town Hall (West)           1715  \n",
       "248              4  Town Hall (West)           1438  \n",
       "...            ...               ...            ...  \n",
       "4231010          4  Town Hall (West)           1641  \n",
       "4231011          4  Town Hall (West)           1239  \n",
       "4231012          4  Town Hall (West)           1083  \n",
       "4231013          4  Town Hall (West)            883  \n",
       "4231014          4  Town Hall (West)            770  \n",
       "\n",
       "[107780 rows x 9 columns]"
      ]
     },
     "execution_count": 172,
     "metadata": {},
     "output_type": "execute_result"
    }
   ],
   "source": [
    "single_sensor"
   ]
  },
  {
   "cell_type": "code",
   "execution_count": 411,
   "id": "offshore-garage",
   "metadata": {},
   "outputs": [],
   "source": [
    "sensor_seq = []\n",
    "for i in range(0, len(single_sensor)):\n",
    "    sensor_seq.append(single_sensor.hourly_counts.iloc[i])\n",
    "    "
   ]
  },
  {
   "cell_type": "code",
   "execution_count": 412,
   "id": "mysterious-quebec",
   "metadata": {},
   "outputs": [],
   "source": [
    "# split a univariate sequence\n",
    "def split_sequence(sequence, n_steps):\n",
    "    X, y = list(), list()\n",
    "    for i in range(len(sequence)):\n",
    "        # find the end of this pattern\n",
    "        end_ix = i + n_steps\n",
    "        # check if we are beyond the sequence\n",
    "        if end_ix > len(sequence)-1:\n",
    "            break\n",
    "        # gather input and output parts of the pattern\n",
    "        seq_x, seq_y = sequence[i:end_ix], sequence[end_ix]\n",
    "        X.append(seq_x)\n",
    "        y.append(seq_y)\n",
    "    return array(X), array(y)\n",
    "\n",
    "# choose a number of time steps\n",
    "n_steps = 7\n",
    "# split into samples\n",
    "X, y = split_sequence(sensor_seq, n_steps)\n"
   ]
  },
  {
   "cell_type": "code",
   "execution_count": 413,
   "id": "frozen-shore",
   "metadata": {},
   "outputs": [],
   "source": [
    "# reshape from [samples, timesteps] into [samples, timesteps, features]\n",
    "n_features = 1\n",
    "X = X.reshape((X.shape[0], X.shape[1], n_features))\n"
   ]
  },
  {
   "cell_type": "code",
   "execution_count": 492,
   "id": "royal-potter",
   "metadata": {},
   "outputs": [],
   "source": [
    "#Setting hyperparameters\n",
    "units = 7\n",
    "dropout_rate = 0.4\n",
    "learning_rate = 0.0007\n",
    "decay_rate = 0.97\n",
    "momentum = 0.9\n",
    "epochs = 11\n",
    "batch_size = 16\n",
    "\n",
    "#Define model\n",
    "model = Sequential()\n",
    "model.add(Bidirectional(LSTM(50, activation='relu'), input_shape=(n_steps, n_features)))\n",
    "model.add(Dropout(0.3))\n",
    "model.add(Dense(1))\n",
    "opt = tf.keras.optimizers.Adam(learning_rate=learning_rate) \n",
    "\n",
    "#Compile Model\n",
    "model.compile(optimizer=opt, loss='mse', metrics = ['accuracy'])\n"
   ]
  },
  {
   "cell_type": "code",
   "execution_count": 493,
   "id": "acceptable-tomorrow",
   "metadata": {},
   "outputs": [
    {
     "name": "stdout",
     "output_type": "stream",
     "text": [
      "Epoch 1/15\n",
      "3368/3368 [==============================] - 35s 8ms/step - loss: 264735.4375 - accuracy: 3.6187e-04\n",
      "Epoch 2/15\n",
      "3368/3368 [==============================] - 29s 9ms/step - loss: 181119.7344 - accuracy: 3.5259e-04\n",
      "Epoch 3/15\n",
      "3368/3368 [==============================] - 35s 10ms/step - loss: 152851.3750 - accuracy: 3.8971e-04\n",
      "Epoch 4/15\n",
      "3368/3368 [==============================] - 40s 12ms/step - loss: 135451.0781 - accuracy: 3.8971e-04\n",
      "Epoch 5/15\n",
      "3368/3368 [==============================] - 25s 8ms/step - loss: 128822.5781 - accuracy: 3.7115e-04\n",
      "Epoch 6/15\n",
      "3368/3368 [==============================] - 25s 7ms/step - loss: 119844.8438 - accuracy: 3.9899e-04\n",
      "Epoch 7/15\n",
      "3368/3368 [==============================] - 32s 9ms/step - loss: 123717.7422 - accuracy: 3.6187e-04: 0s - loss: 123792.7188\n",
      "Epoch 8/15\n",
      "3368/3368 [==============================] - 38s 11ms/step - loss: 122927.5391 - accuracy: 3.8971e-04\n",
      "Epoch 9/15\n",
      "3368/3368 [==============================] - 31s 9ms/step - loss: 160578.9844 - accuracy: 3.8043e-04\n",
      "Epoch 10/15\n",
      "3368/3368 [==============================] - 24s 7ms/step - loss: 139120.9219 - accuracy: 3.8043e-04\n",
      "Epoch 11/15\n",
      "3368/3368 [==============================] - 24s 7ms/step - loss: 122663.0156 - accuracy: 3.3404e-04\n",
      "Epoch 12/15\n",
      "3368/3368 [==============================] - 31s 9ms/step - loss: 124437.9219 - accuracy: 3.7115e-04\n",
      "Epoch 13/15\n",
      "3368/3368 [==============================] - 32s 10ms/step - loss: 116376.9297 - accuracy: 3.8971e-04 1s - loss: \n",
      "Epoch 14/15\n",
      "3368/3368 [==============================] - 39s 12ms/step - loss: 144724.6875 - accuracy: 3.4331e-04\n",
      "Epoch 15/15\n",
      "3368/3368 [==============================] - 40s 12ms/step - loss: 143553.2031 - accuracy: 2.9692e-04\n"
     ]
    },
    {
     "data": {
      "text/plain": [
       "<keras.callbacks.History at 0x7fbf304d24f0>"
      ]
     },
     "execution_count": 493,
     "metadata": {},
     "output_type": "execute_result"
    }
   ],
   "source": [
    "#Fit model\n",
    "model.fit(X, y, epochs=15, verbose=1)\n"
   ]
  },
  {
   "cell_type": "code",
   "execution_count": 494,
   "id": "simple-handle",
   "metadata": {},
   "outputs": [
    {
     "name": "stdout",
     "output_type": "stream",
     "text": [
      "predicted next value:  287\n",
      "actual next value:  205\n"
     ]
    }
   ],
   "source": [
    "# demonstrate prediction\n",
    "x_input = array(sensor_seq[1:8])\n",
    "x_input = x_input.reshape((1, n_steps, n_features))\n",
    "yhat = model.predict(x_input, verbose=0)\n",
    "print(\"predicted next value: \", int(yhat))\n",
    "print(\"actual next value: \", sensor_seq[8])\n",
    "\n",
    "\n"
   ]
  },
  {
   "cell_type": "code",
   "execution_count": 495,
   "id": "advance-treasurer",
   "metadata": {},
   "outputs": [
    {
     "name": "stdout",
     "output_type": "stream",
     "text": [
      "predicted next value:  1075\n",
      "actual next value:  1228\n"
     ]
    }
   ],
   "source": [
    "# demonstrate prediction\n",
    "x_input = array(sensor_seq[21:28])\n",
    "x_input = x_input.reshape((1, n_steps, n_features))\n",
    "yhat = model.predict(x_input, verbose=0)\n",
    "print(\"predicted next value: \", int(yhat))\n",
    "print(\"actual next value: \", sensor_seq[28])\n",
    "\n"
   ]
  }
 ],
 "metadata": {
  "kernelspec": {
   "display_name": "Python 3",
   "language": "python",
   "name": "python3"
  },
  "language_info": {
   "codemirror_mode": {
    "name": "ipython",
    "version": 3
   },
   "file_extension": ".py",
   "mimetype": "text/x-python",
   "name": "python",
   "nbconvert_exporter": "python",
   "pygments_lexer": "ipython3",
   "version": "3.8.2"
  }
 },
 "nbformat": 4,
 "nbformat_minor": 5
}
