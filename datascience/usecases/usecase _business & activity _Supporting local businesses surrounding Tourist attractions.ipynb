{
 "cells": [
  {
   "cell_type": "markdown",
   "id": "939afab5",
   "metadata": {},
   "source": [
    "<div class=\"usecase-title\">Business & Activity - Supporting local businesses surrounding Tourist attractions</div>\n",
    "\n",
    "<div class=\"usecase-authors\"><b>Authored by: </b> Kruthi Shetty and Vinit Karunakar Shetty</div>"
   ]
  },
  {
   "cell_type": "markdown",
   "id": "0d9ad93c",
   "metadata": {},
   "source": [
    "<div class=\"usecase-duration\"><b>Duration:</b> 120 mins</div>\n",
    "\n",
    "<div class=\"usecase-level-skill\">\n",
    "    <div class=\"usecase-level\"><b>Level: </b>Intermediate</div>\n",
    "    <div class=\"usecase-skill\"><b>Pre-requisite Skills: </b>Python, Data engineering and analysis</div>\n",
    "</div>"
   ]
  },
  {
   "cell_type": "markdown",
   "id": "426f2a8a",
   "metadata": {},
   "source": [
    "<div class=\"usecase-section-header\">Scenario</div>"
   ]
  },
  {
   "cell_type": "markdown",
   "id": "64ae3927",
   "metadata": {},
   "source": [
    "**As a tourist I want to make the most of the time in the city of Melbourne and have a more enjoyable and fulfilling experience.**\n",
    "People visiting Melbourne may want to discover new places of interest that they were previously unaware of to expand their itinerary and have a more fulfilling sightseeing experience.And also, plan their route accordingly and avoid wasting time and money on unnecessary transportation\n",
    "\n",
    "**As a business owner I want to Visualize the tourist attractions and Places of Interest for people visiting melbourne for sight seeing. Give them insights and valuable information for that particular attraction.:** \n",
    "Buisness owners are looking to visualize these tourist attractions using Interactive maps so that visitors can better plan their sightseeing activities, avoid getting lost or wasting time, and have a more enjoyable and memorable experience in Melbourne. This can also benefit businesses in the area by increasing awareness, enhancing marketing efforts, improving the overall customer experience, and fostering collaboration with other local businesses. Ultimately, visualizing tourist attractions and places of interest can contribute to a thriving tourism industry and a stronger local economy.\n",
    "\n"
   ]
  },
  {
   "cell_type": "markdown",
   "id": "9d54029a",
   "metadata": {},
   "source": [
    "What Will This Use Case Teach You?"
   ]
  },
  {
   "cell_type": "markdown",
   "id": "015a3f3c",
   "metadata": {},
   "source": [
    "At the end of this use case you will:\n",
    "\n",
    "- Learn how to Load the dataset into a Pandas dataframe.\n",
    "- Clean the data by removing any unnecessary columns and handling missing values*\n",
    "- Use the data to create heatmaps to show the density of landmarks or places of interest in  different areas of Melbourne\n",
    "- Add valuable information about each tourist attractions or place of interest to the visualizations, such as opening hours, ticket prices, and ratings and reviews from previous visitors."
   ]
  },
  {
   "cell_type": "markdown",
   "id": "f1958cc6",
   "metadata": {},
   "source": [
    "<div class=\"usecase-section-header\">Introduction</div>"
   ]
  },
  {
   "cell_type": "markdown",
   "id": "b239480b",
   "metadata": {},
   "source": [
    "Melbourne is known for its vibrant arts and culture scene, with numerous museums, galleries, and theaters. The city is also famous for its food and wine culture, with a diverse range of restaurants, cafes, and bars.It has a thriving coffee culture and is known for its brunch spots. Overall, Melbourne offers a unique combination of culture, food, nature, and sports, making it a popular destination for tourists from around the world.\n",
    "\n",
    "Aim of this usecase is to provide visitors with a comprehensive view of tourist attractions and places of interest in Melbourne, as well as valuable information to help them plan their visit. By visualizing the attractions on a map, tourists can easily see their location and proximity to each other. This makes it easier for them to plan their sightseeing itinerary and optimize their time in Melbourne. With the information and insights about each attraction, tourists can make more informed decisions about which attractions to visit. This can help them avoid disappointment"
   ]
  },
  {
   "cell_type": "markdown",
   "id": "e9c10985",
   "metadata": {},
   "source": [
    "<div class=\"usecase-section-header\">Dataset</div>"
   ]
  },
  {
   "cell_type": "markdown",
   "id": "9eedb4a6",
   "metadata": {},
   "source": [
    "- Landmarks and places of interest, including schools, theatres, health services, sports facilities, places of worship, galleries and museums."
   ]
  },
  {
   "cell_type": "code",
   "execution_count": null,
   "id": "53694d77",
   "metadata": {},
   "outputs": [],
   "source": []
  }
 ],
 "metadata": {
  "kernelspec": {
   "display_name": "Python 3 (ipykernel)",
   "language": "python",
   "name": "python3"
  },
  "language_info": {
   "codemirror_mode": {
    "name": "ipython",
    "version": 3
   },
   "file_extension": ".py",
   "mimetype": "text/x-python",
   "name": "python",
   "nbconvert_exporter": "python",
   "pygments_lexer": "ipython3",
   "version": "3.9.12"
  }
 },
 "nbformat": 4,
 "nbformat_minor": 5
}
