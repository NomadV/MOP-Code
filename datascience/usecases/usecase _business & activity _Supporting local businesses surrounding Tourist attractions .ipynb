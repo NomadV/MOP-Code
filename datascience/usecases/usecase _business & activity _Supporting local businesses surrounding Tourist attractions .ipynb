{
 "cells": [
  {
   "cell_type": "markdown",
   "id": "65ff9db3",
   "metadata": {},
   "source": [
    "# Business & Activity - Supporting local businesses surrounding Tourist attractions Usecase\n",
    "\n",
    "## Authored by:  Kruthi Shetty and Vinit Shetty"
   ]
  },
  {
   "cell_type": "markdown",
   "id": "51e52445",
   "metadata": {},
   "source": [
    "**Duration:** 120 mins <br>\n",
    "**Level:** Intermediate <br>\n",
    "**Pre-requisite Skills:** Python, Data Engineering and Analysis"
   ]
  },
  {
   "cell_type": "markdown",
   "id": "a7556cb0",
   "metadata": {},
   "source": [
    "### Scenario"
   ]
  },
  {
   "cell_type": "markdown",
   "id": "790707f0",
   "metadata": {},
   "source": [
    "**As a tourist I want to make the most of the time in the city of Melbourne and have a more enjoyable and fulfilling experience.** <br>\n",
    "When visiting Melbourne, tourists are often eager to uncover new and exciting places to visit, in order to add depth and interest to their itinerary. By researching lesser-known attractions or asking locals for recommendations, travelers can discover hidden gems that may not have been on their radar initially. Additionally, it's important to plan one's route effectively in order to avoid wasting time and money on unnecessary transportation. By mapping out a logical itinerary, visitors can ensure that they are able to see as much of the city as possible within their allotted time frame, without missing out on any must-see sights.\n",
    "\n",
    "**As a cafe, restaurant, or bistro owner in Melbourne, I understand the value of catering to tourists who are looking to make the most of their time in the city. By recognizing and responding to the needs and interests of visitors, I can build a loyal customer base and create a sustainable business model that benefits both myself and the local tourism industry.**<br> \n",
    "The primary objective of business owners is to enhance customer engagement and drive revenue growth by delivering an exceptional and unforgettable experience to visitors. This can result in a surge of foot traffic and revenue generation for the cafe, restaurant, and bistro owners. In the end, the aim of business owners is to develop a feasible business model that not only serves their best interests but also provides substantial benefits to their customers and the neighboring community."
   ]
  },
  {
   "cell_type": "markdown",
   "id": "516c9b1e",
   "metadata": {},
   "source": [
    "**What Will This Use Case Teach You?**"
   ]
  },
  {
   "cell_type": "markdown",
   "id": "a5ba081b",
   "metadata": {},
   "source": [
    "At the end of this use case you will:\n",
    "\n",
    "- Learn how to Load the dataset into a Pandas dataframe.\n",
    "- Clean the data by removing any unnecessary columns and handling missing values\n",
    "- Use the data to create heatmaps to show the density of landmarks or places of interest in  different areas of Melbourne\n",
    "- Add valuable information about each tourist attractions or place of interest to the visualizations, such as opening hours, ticket prices, and ratings and reviews from previous visitors."
   ]
  },
  {
   "cell_type": "markdown",
   "id": "2cf650d8",
   "metadata": {},
   "source": [
    "#### Introduction"
   ]
  },
  {
   "cell_type": "markdown",
   "id": "4514a489",
   "metadata": {},
   "source": [
    "Melbourne is known for its vibrant arts and culture scene, with numerous museums, galleries, and theaters. The city is also famous for its food and wine culture, with a diverse range of restaurants, cafes, and bars.It has a thriving coffee culture and is known for its brunch spots. Overall, Melbourne offers a unique combination of culture, food, nature, and sports, making it a popular destination for tourists from around the world.\n",
    "\n",
    "The objective of this use case is to offer tourists a comprehensive overview of the popular tourist spots and interesting locations in Melbourne, coupled with valuable insights to help them organize their trip effectively. By displaying the attractions on a map, visitors can effortlessly determine their location and proximity to one another, which makes planning their itinerary and optimizing their time in Melbourne a more convenient task. Through the information and guidance provided for each attraction, tourists can make informed decisions regarding which places to visit, which helps them avoid potential disappointments.\n",
    "\n",
    "Moreover, this use case also benefits the nearby cafes, restaurants, and bistros owners as they will be featured on the map along with the landmarks, leading to an increase in revenue and customer footfall for their establishments."
   ]
  },
  {
   "cell_type": "markdown",
   "id": "516bc90c",
   "metadata": {},
   "source": [
    "#### Datasets List"
   ]
  },
  {
   "cell_type": "markdown",
   "id": "efe179c6",
   "metadata": {},
   "source": [
    "- Landmarks and places of interest, including schools, theatres, health services, sports facilities, places of worship, galleries and museums.\n",
    "- Public artworks, fountains and monuments.\n",
    "- Public memorials and sculptures.\n",
    "- Cafe, restaurant and bistro seats."
   ]
  },
  {
   "cell_type": "markdown",
   "id": "8049bfea",
   "metadata": {},
   "source": [
    "### Roadmap"
   ]
  },
  {
   "cell_type": "markdown",
   "id": "345bbb47",
   "metadata": {},
   "source": [
    "#### Contents\n",
    "1. Import Libraries\n",
    "2. Connect and Test Datasets\n",
    "3. Analysis of Datasets\n",
    "    - 3.1. Landmarks and places of interest\n",
    "    - 3.2. Public artworks, fountains and monuments\n",
    "    - 3.3. Public memorials and sculptures\n",
    "    - 3.4. Cafe, restaurant and bistro seats\n",
    "4. Combining all Visualisations and Data\n",
    "5. Findings and Opportunities\n",
    "6. Thank You!"
   ]
  },
  {
   "cell_type": "markdown",
   "id": "3bbf0aa6",
   "metadata": {},
   "source": [
    "### 1. Import important Libraries"
   ]
  },
  {
   "cell_type": "code",
   "execution_count": 21,
   "id": "f5d6b212",
   "metadata": {},
   "outputs": [],
   "source": [
    "# Standard\n",
    "import os\n",
    "import json\n",
    "\n",
    "# Data import\n",
    "import urllib\n",
    "from urllib.request import urlopen \n",
    "import requests\n",
    "from sodapy import Socrata\n",
    "\n",
    "# Data manipulation\n",
    "import pandas as pd\n",
    "\n",
    "# Plotting \n",
    "import plotly.graph_objs as go\n",
    "import plotly.express as px"
   ]
  },
  {
   "cell_type": "markdown",
   "id": "fdbb0fb6",
   "metadata": {},
   "source": [
    "### 2. Connect and Test datasets"
   ]
  },
  {
   "cell_type": "code",
   "execution_count": 9,
   "id": "a1f2d0b9",
   "metadata": {},
   "outputs": [],
   "source": [
    "# Landmarks and places of interest data\n",
    "lan_url = 'https://data.melbourne.vic.gov.au/api/v2/catalog/datasets/landmarks-and-places-of-interest-including-schools-theatres-health-services-spor/exports/json?limit=-1&offset=0&timezone=UTC'\n",
    "r = requests.get(lan_url)\n",
    "response = r.json()\n",
    "lan_data = pd.DataFrame(response)\n",
    "\n",
    "# Public artworks, fountains and monuments data\n",
    "Pub_url = 'https://data.melbourne.vic.gov.au/api/v2/catalog/datasets/public-artworks-fountains-and-monuments/exports/json?limit=-1&offset=0&timezone=UTC'\n",
    "r = requests.get(Pub_url)\n",
    "response = r.json()\n",
    "Pub_data = pd.DataFrame(response)\n",
    "\n",
    "# Public memorials and sculptures data\n",
    "mem_url = 'https://data.melbourne.vic.gov.au/api/v2/catalog/datasets/public-memorials-and-sculptures/exports/json?limit=-1&offset=0&timezone=UTC'\n",
    "r = requests.get(mem_url)\n",
    "response = r.json()\n",
    "mem_data = pd.DataFrame(response)\n",
    "\n",
    "# Cafe, restaurant and bistro seats data\n",
    "cafe_url = 'https://data.melbourne.vic.gov.au/api/v2/catalog/datasets/cafes-and-restaurants-with-seating-capacity/exports/json?limit=-1&offset=0&timezone=UTC'\n",
    "r = requests.get(cafe_url)\n",
    "response = r.json()\n",
    "cafe_data = pd.DataFrame(response)"
   ]
  },
  {
   "cell_type": "markdown",
   "id": "95dd325e",
   "metadata": {},
   "source": [
    "Next, we will look at one specific dataset to better understand its structure and how we can use it. For this exercise, we will observe the Landmarks and places of interest dataset, specifically, it's first ten rows."
   ]
  },
  {
   "cell_type": "code",
   "execution_count": 19,
   "id": "b6211d20",
   "metadata": {},
   "outputs": [
    {
     "name": "stdout",
     "output_type": "stream",
     "text": [
      "The shape of the dataset is:(242, 4)\n",
      "\n",
      "The first ten rows of this dataset are:\n"
     ]
    },
    {
     "data": {
      "text/html": [
       "<div>\n",
       "<style scoped>\n",
       "    .dataframe tbody tr th:only-of-type {\n",
       "        vertical-align: middle;\n",
       "    }\n",
       "\n",
       "    .dataframe tbody tr th {\n",
       "        vertical-align: top;\n",
       "    }\n",
       "\n",
       "    .dataframe thead th {\n",
       "        text-align: right;\n",
       "    }\n",
       "</style>\n",
       "<table border=\"1\" class=\"dataframe\">\n",
       "  <thead>\n",
       "    <tr style=\"text-align: right;\">\n",
       "      <th></th>\n",
       "      <th>theme</th>\n",
       "      <th>sub_theme</th>\n",
       "      <th>feature_name</th>\n",
       "      <th>co_ordinates</th>\n",
       "    </tr>\n",
       "  </thead>\n",
       "  <tbody>\n",
       "    <tr>\n",
       "      <th>0</th>\n",
       "      <td>Place of Worship</td>\n",
       "      <td>Church</td>\n",
       "      <td>St Francis Church</td>\n",
       "      <td>{'lon': 144.962422614541, 'lat': -37.811884783...</td>\n",
       "    </tr>\n",
       "    <tr>\n",
       "      <th>1</th>\n",
       "      <td>Place of Worship</td>\n",
       "      <td>Church</td>\n",
       "      <td>St James Church</td>\n",
       "      <td>{'lon': 144.952468571683, 'lat': -37.810128120...</td>\n",
       "    </tr>\n",
       "    <tr>\n",
       "      <th>2</th>\n",
       "      <td>Place of Worship</td>\n",
       "      <td>Church</td>\n",
       "      <td>St Mary's Anglican Church</td>\n",
       "      <td>{'lon': 144.953761537074, 'lat': -37.803166367...</td>\n",
       "    </tr>\n",
       "    <tr>\n",
       "      <th>3</th>\n",
       "      <td>Place of Worship</td>\n",
       "      <td>Church</td>\n",
       "      <td>Scots Church</td>\n",
       "      <td>{'lon': 144.96855105335, 'lat': -37.8145687802...</td>\n",
       "    </tr>\n",
       "    <tr>\n",
       "      <th>4</th>\n",
       "      <td>Place of Worship</td>\n",
       "      <td>Church</td>\n",
       "      <td>St Michael's Uniting Church</td>\n",
       "      <td>{'lon': 144.969174036096, 'lat': -37.814385132...</td>\n",
       "    </tr>\n",
       "    <tr>\n",
       "      <th>5</th>\n",
       "      <td>Place of Worship</td>\n",
       "      <td>Church</td>\n",
       "      <td>Greek Orthodox Church</td>\n",
       "      <td>{'lon': 144.978259089269, 'lat': -37.808806466...</td>\n",
       "    </tr>\n",
       "    <tr>\n",
       "      <th>6</th>\n",
       "      <td>Place of Worship</td>\n",
       "      <td>Church</td>\n",
       "      <td>North Melbourne Uniting</td>\n",
       "      <td>{'lon': 144.947671538375, 'lat': -37.803553847...</td>\n",
       "    </tr>\n",
       "    <tr>\n",
       "      <th>7</th>\n",
       "      <td>Place of Worship</td>\n",
       "      <td>Church</td>\n",
       "      <td>South Yarra Presbyterian Church</td>\n",
       "      <td>{'lon': 144.98562699348, 'lat': -37.8407473645...</td>\n",
       "    </tr>\n",
       "    <tr>\n",
       "      <th>8</th>\n",
       "      <td>Place of Worship</td>\n",
       "      <td>Synagogue</td>\n",
       "      <td>East Melbourne Synagogue</td>\n",
       "      <td>{'lon': 144.97422190954, 'lat': -37.809113728917}</td>\n",
       "    </tr>\n",
       "    <tr>\n",
       "      <th>9</th>\n",
       "      <td>Transport</td>\n",
       "      <td>Transport Terminal</td>\n",
       "      <td>Port of Melbourne</td>\n",
       "      <td>{'lon': 144.91753432375, 'lat': -37.8137384362...</td>\n",
       "    </tr>\n",
       "  </tbody>\n",
       "</table>\n",
       "</div>"
      ],
      "text/plain": [
       "              theme           sub_theme                     feature_name  \\\n",
       "0  Place of Worship              Church                St Francis Church   \n",
       "1  Place of Worship              Church                  St James Church   \n",
       "2  Place of Worship              Church        St Mary's Anglican Church   \n",
       "3  Place of Worship              Church                     Scots Church   \n",
       "4  Place of Worship              Church      St Michael's Uniting Church   \n",
       "5  Place of Worship              Church            Greek Orthodox Church   \n",
       "6  Place of Worship              Church          North Melbourne Uniting   \n",
       "7  Place of Worship              Church  South Yarra Presbyterian Church   \n",
       "8  Place of Worship           Synagogue         East Melbourne Synagogue   \n",
       "9         Transport  Transport Terminal                Port of Melbourne   \n",
       "\n",
       "                                        co_ordinates  \n",
       "0  {'lon': 144.962422614541, 'lat': -37.811884783...  \n",
       "1  {'lon': 144.952468571683, 'lat': -37.810128120...  \n",
       "2  {'lon': 144.953761537074, 'lat': -37.803166367...  \n",
       "3  {'lon': 144.96855105335, 'lat': -37.8145687802...  \n",
       "4  {'lon': 144.969174036096, 'lat': -37.814385132...  \n",
       "5  {'lon': 144.978259089269, 'lat': -37.808806466...  \n",
       "6  {'lon': 144.947671538375, 'lat': -37.803553847...  \n",
       "7  {'lon': 144.98562699348, 'lat': -37.8407473645...  \n",
       "8  {'lon': 144.97422190954, 'lat': -37.809113728917}  \n",
       "9  {'lon': 144.91753432375, 'lat': -37.8137384362...  "
      ]
     },
     "execution_count": 19,
     "metadata": {},
     "output_type": "execute_result"
    }
   ],
   "source": [
    "# Print details of data\n",
    "print(f'The shape of the dataset is:{lan_data.shape}')\n",
    "print()\n",
    "print('The first ten rows of this dataset are:')\n",
    "\n",
    "# Print the first 10 rows of data\n",
    "lan_data.head(10)"
   ]
  },
  {
   "cell_type": "markdown",
   "id": "abad5eca",
   "metadata": {},
   "source": [
    "We can see that there are 242 records and 4 fields describing each record. \n",
    "\n",
    "Each record can be broken down into the following fields:\n",
    "\n",
    "**theme:** Main Theme of the landmark. e.g. Places of Interest.\n",
    "\n",
    "**sub_theme:** Exact Identification of the landmark. e.g Church or Synagogue.\n",
    "\n",
    "**feature_name:** Name of the landmark. e.g. St Francis Church, East Melbourne Synagogue.\n",
    "\n",
    "**co_ordinates:** Data regarding the geographical location of a place, determined by its latitude and longitude. \n",
    "\n",
    "**Awesome! After taking a look at one of the Melbourne datasets we can see the overall structure and contents. Lets now begin our analysis of each individual dataset."
   ]
  },
  {
   "cell_type": "markdown",
   "id": "eaecb2bb",
   "metadata": {},
   "source": [
    "### 3. Analysis of the dataset"
   ]
  },
  {
   "cell_type": "markdown",
   "id": "99e0237a",
   "metadata": {},
   "source": [
    "We are now going analyse each individual dataset so we can generate useful information and visualisations about them. This will assist us when producing final interactive maps and predictions later on."
   ]
  },
  {
   "cell_type": "markdown",
   "id": "661dae13",
   "metadata": {},
   "source": [
    "#### 3.1 Landmarks and Places of Interest Dataset"
   ]
  },
  {
   "cell_type": "code",
   "execution_count": 24,
   "id": "afc29ef5",
   "metadata": {},
   "outputs": [
    {
     "data": {
      "text/html": [
       "<div>\n",
       "<style scoped>\n",
       "    .dataframe tbody tr th:only-of-type {\n",
       "        vertical-align: middle;\n",
       "    }\n",
       "\n",
       "    .dataframe tbody tr th {\n",
       "        vertical-align: top;\n",
       "    }\n",
       "\n",
       "    .dataframe thead th {\n",
       "        text-align: right;\n",
       "    }\n",
       "</style>\n",
       "<table border=\"1\" class=\"dataframe\">\n",
       "  <thead>\n",
       "    <tr style=\"text-align: right;\">\n",
       "      <th></th>\n",
       "      <th>theme</th>\n",
       "      <th>sub_theme</th>\n",
       "      <th>feature_name</th>\n",
       "      <th>co_ordinates</th>\n",
       "    </tr>\n",
       "  </thead>\n",
       "  <tbody>\n",
       "    <tr>\n",
       "      <th>0</th>\n",
       "      <td>Place of Worship</td>\n",
       "      <td>Church</td>\n",
       "      <td>St Francis Church</td>\n",
       "      <td>{'lon': 144.962422614541, 'lat': -37.811884783...</td>\n",
       "    </tr>\n",
       "    <tr>\n",
       "      <th>1</th>\n",
       "      <td>Place of Worship</td>\n",
       "      <td>Church</td>\n",
       "      <td>St James Church</td>\n",
       "      <td>{'lon': 144.952468571683, 'lat': -37.810128120...</td>\n",
       "    </tr>\n",
       "    <tr>\n",
       "      <th>2</th>\n",
       "      <td>Place of Worship</td>\n",
       "      <td>Church</td>\n",
       "      <td>St Mary's Anglican Church</td>\n",
       "      <td>{'lon': 144.953761537074, 'lat': -37.803166367...</td>\n",
       "    </tr>\n",
       "    <tr>\n",
       "      <th>3</th>\n",
       "      <td>Place of Worship</td>\n",
       "      <td>Church</td>\n",
       "      <td>Scots Church</td>\n",
       "      <td>{'lon': 144.96855105335, 'lat': -37.8145687802...</td>\n",
       "    </tr>\n",
       "    <tr>\n",
       "      <th>4</th>\n",
       "      <td>Place of Worship</td>\n",
       "      <td>Church</td>\n",
       "      <td>St Michael's Uniting Church</td>\n",
       "      <td>{'lon': 144.969174036096, 'lat': -37.814385132...</td>\n",
       "    </tr>\n",
       "    <tr>\n",
       "      <th>...</th>\n",
       "      <td>...</td>\n",
       "      <td>...</td>\n",
       "      <td>...</td>\n",
       "      <td>...</td>\n",
       "    </tr>\n",
       "    <tr>\n",
       "      <th>237</th>\n",
       "      <td>Education Centre</td>\n",
       "      <td>School - Primary and Secondary Education</td>\n",
       "      <td>Melbourne Girls Grammar School</td>\n",
       "      <td>{'lon': 144.985089428348, 'lat': -37.831536451...</td>\n",
       "    </tr>\n",
       "    <tr>\n",
       "      <th>238</th>\n",
       "      <td>Retail</td>\n",
       "      <td>Department Store</td>\n",
       "      <td>Myer</td>\n",
       "      <td>{'lon': 144.963855087868, 'lat': -37.813591198...</td>\n",
       "    </tr>\n",
       "    <tr>\n",
       "      <th>239</th>\n",
       "      <td>Retail</td>\n",
       "      <td>Department Store</td>\n",
       "      <td>David Jones</td>\n",
       "      <td>{'lon': 144.964373486798, 'lat': -37.813312726...</td>\n",
       "    </tr>\n",
       "    <tr>\n",
       "      <th>240</th>\n",
       "      <td>Health Services</td>\n",
       "      <td>Medical Services</td>\n",
       "      <td>Mercy Private Hospital</td>\n",
       "      <td>{'lon': 144.984435746587, 'lat': -37.811896809...</td>\n",
       "    </tr>\n",
       "    <tr>\n",
       "      <th>241</th>\n",
       "      <td>Mixed Use</td>\n",
       "      <td>Retail/Office/Carpark</td>\n",
       "      <td>ANZ 'Gothic' Bank</td>\n",
       "      <td>{'lon': 144.961673719242, 'lat': -37.816158066...</td>\n",
       "    </tr>\n",
       "  </tbody>\n",
       "</table>\n",
       "<p>242 rows × 4 columns</p>\n",
       "</div>"
      ],
      "text/plain": [
       "                theme                                 sub_theme  \\\n",
       "0    Place of Worship                                    Church   \n",
       "1    Place of Worship                                    Church   \n",
       "2    Place of Worship                                    Church   \n",
       "3    Place of Worship                                    Church   \n",
       "4    Place of Worship                                    Church   \n",
       "..                ...                                       ...   \n",
       "237  Education Centre  School - Primary and Secondary Education   \n",
       "238            Retail                          Department Store   \n",
       "239            Retail                          Department Store   \n",
       "240   Health Services                          Medical Services   \n",
       "241         Mixed Use                     Retail/Office/Carpark   \n",
       "\n",
       "                       feature_name  \\\n",
       "0                 St Francis Church   \n",
       "1                   St James Church   \n",
       "2         St Mary's Anglican Church   \n",
       "3                      Scots Church   \n",
       "4       St Michael's Uniting Church   \n",
       "..                              ...   \n",
       "237  Melbourne Girls Grammar School   \n",
       "238                            Myer   \n",
       "239                     David Jones   \n",
       "240          Mercy Private Hospital   \n",
       "241               ANZ 'Gothic' Bank   \n",
       "\n",
       "                                          co_ordinates  \n",
       "0    {'lon': 144.962422614541, 'lat': -37.811884783...  \n",
       "1    {'lon': 144.952468571683, 'lat': -37.810128120...  \n",
       "2    {'lon': 144.953761537074, 'lat': -37.803166367...  \n",
       "3    {'lon': 144.96855105335, 'lat': -37.8145687802...  \n",
       "4    {'lon': 144.969174036096, 'lat': -37.814385132...  \n",
       "..                                                 ...  \n",
       "237  {'lon': 144.985089428348, 'lat': -37.831536451...  \n",
       "238  {'lon': 144.963855087868, 'lat': -37.813591198...  \n",
       "239  {'lon': 144.964373486798, 'lat': -37.813312726...  \n",
       "240  {'lon': 144.984435746587, 'lat': -37.811896809...  \n",
       "241  {'lon': 144.961673719242, 'lat': -37.816158066...  \n",
       "\n",
       "[242 rows x 4 columns]"
      ]
     },
     "execution_count": 24,
     "metadata": {},
     "output_type": "execute_result"
    }
   ],
   "source": [
    "lan_data"
   ]
  },
  {
   "cell_type": "markdown",
   "id": "8f3e5835",
   "metadata": {},
   "source": [
    "Map - using co ordinates - get lat and long - Using Folium - Once we have the map - Name of the landmark - sub_theme as Icon - Theme as a whole cluster "
   ]
  },
  {
   "cell_type": "markdown",
   "id": "bb1d1796",
   "metadata": {},
   "source": [
    "#### 3.2 Public Artworks, Fountains and Monuments Dataset"
   ]
  },
  {
   "cell_type": "code",
   "execution_count": 26,
   "id": "12281589",
   "metadata": {},
   "outputs": [
    {
     "data": {
      "text/html": [
       "<div>\n",
       "<style scoped>\n",
       "    .dataframe tbody tr th:only-of-type {\n",
       "        vertical-align: middle;\n",
       "    }\n",
       "\n",
       "    .dataframe tbody tr th {\n",
       "        vertical-align: top;\n",
       "    }\n",
       "\n",
       "    .dataframe thead th {\n",
       "        text-align: right;\n",
       "    }\n",
       "</style>\n",
       "<table border=\"1\" class=\"dataframe\">\n",
       "  <thead>\n",
       "    <tr style=\"text-align: right;\">\n",
       "      <th></th>\n",
       "      <th>asset_type</th>\n",
       "      <th>name</th>\n",
       "      <th>xorg</th>\n",
       "      <th>xsource</th>\n",
       "      <th>address_point</th>\n",
       "      <th>artist</th>\n",
       "      <th>alternate_name</th>\n",
       "      <th>art_date</th>\n",
       "      <th>mel_way_ref</th>\n",
       "      <th>respective_author</th>\n",
       "      <th>structure</th>\n",
       "      <th>co_ordinates</th>\n",
       "      <th>easting</th>\n",
       "      <th>northing</th>\n",
       "    </tr>\n",
       "  </thead>\n",
       "  <tbody>\n",
       "    <tr>\n",
       "      <th>0</th>\n",
       "      <td>Art</td>\n",
       "      <td>Blowhole</td>\n",
       "      <td>Beveridge Williams Surveyors</td>\n",
       "      <td>Field Survey</td>\n",
       "      <td>13 Harbour Esplanade, DOCKLANDS</td>\n",
       "      <td>Duncan Stemler</td>\n",
       "      <td>None</td>\n",
       "      <td>2005</td>\n",
       "      <td>2E_G8</td>\n",
       "      <td>City of Melbourne</td>\n",
       "      <td>Stainless-steel and aluminium sculpture</td>\n",
       "      <td>{'lon': 144.946871022845, 'lat': -37.822018216...</td>\n",
       "      <td>319296.292</td>\n",
       "      <td>5811946.283</td>\n",
       "    </tr>\n",
       "    <tr>\n",
       "      <th>1</th>\n",
       "      <td>Art</td>\n",
       "      <td>Bandstand</td>\n",
       "      <td>City of Melbourne</td>\n",
       "      <td>MCC - Ortho Image March 2005 - Final</td>\n",
       "      <td>200 Little Collins Street, MELBOURNE</td>\n",
       "      <td>George Dodd</td>\n",
       "      <td>None</td>\n",
       "      <td>1864</td>\n",
       "      <td>2F_G3</td>\n",
       "      <td>City Of Melbourne</td>\n",
       "      <td>Concrete bandstand</td>\n",
       "      <td>{'lon': 144.96733868317, 'lat': -37.8140548689...</td>\n",
       "      <td>321078.689</td>\n",
       "      <td>5812869.353</td>\n",
       "    </tr>\n",
       "  </tbody>\n",
       "</table>\n",
       "</div>"
      ],
      "text/plain": [
       "  asset_type       name                          xorg  \\\n",
       "0        Art   Blowhole  Beveridge Williams Surveyors   \n",
       "1        Art  Bandstand             City of Melbourne   \n",
       "\n",
       "                                xsource                         address_point  \\\n",
       "0                          Field Survey       13 Harbour Esplanade, DOCKLANDS   \n",
       "1  MCC - Ortho Image March 2005 - Final  200 Little Collins Street, MELBOURNE   \n",
       "\n",
       "           artist alternate_name art_date mel_way_ref  respective_author  \\\n",
       "0  Duncan Stemler           None     2005       2E_G8  City of Melbourne   \n",
       "1     George Dodd           None     1864       2F_G3  City Of Melbourne   \n",
       "\n",
       "                                 structure  \\\n",
       "0  Stainless-steel and aluminium sculpture   \n",
       "1                       Concrete bandstand   \n",
       "\n",
       "                                        co_ordinates     easting     northing  \n",
       "0  {'lon': 144.946871022845, 'lat': -37.822018216...  319296.292  5811946.283  \n",
       "1  {'lon': 144.96733868317, 'lat': -37.8140548689...  321078.689  5812869.353  "
      ]
     },
     "execution_count": 26,
     "metadata": {},
     "output_type": "execute_result"
    }
   ],
   "source": [
    "Pub_data.head(2)"
   ]
  },
  {
   "cell_type": "markdown",
   "id": "4ee0586d",
   "metadata": {},
   "source": [
    "Need - asset_type(Icon) - Name , artist , art_date , structure (description) , co_ordinates ( To Map) \n",
    "do not need - xorg,\txsource,address_point , alternate_name , mel_way_ref , respective_author , easting\tnorthing"
   ]
  },
  {
   "cell_type": "markdown",
   "id": "b5675d2d",
   "metadata": {},
   "source": [
    "#### 3.3 Public Memorials and Sculptures Dataset"
   ]
  },
  {
   "cell_type": "markdown",
   "id": "436fddc7",
   "metadata": {},
   "source": [
    "#### 3.4 Cafe, Restaurant and Bistro Seats Dataset"
   ]
  }
 ],
 "metadata": {
  "kernelspec": {
   "display_name": "Python 3 (ipykernel)",
   "language": "python",
   "name": "python3"
  },
  "language_info": {
   "codemirror_mode": {
    "name": "ipython",
    "version": 3
   },
   "file_extension": ".py",
   "mimetype": "text/x-python",
   "name": "python",
   "nbconvert_exporter": "python",
   "pygments_lexer": "ipython3",
   "version": "3.9.13"
  }
 },
 "nbformat": 4,
 "nbformat_minor": 5
}
