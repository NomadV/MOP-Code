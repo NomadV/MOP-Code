{
 "cells": [
  {
   "cell_type": "markdown",
   "metadata": {},
   "source": [
    "<div class=\"usecase-title\">Ideal Green Roof Locations: Melbourne</div>\n",
    "\n",
    "<div class=\"usecase-authors\"><b>Authored by: </b> Ryan Waites, Hannah Smith</div>"
   ]
  },
  {
   "cell_type": "markdown",
   "metadata": {},
   "source": [
    "<div class=\"usecase-duration\"><b>Duration:</b> 120 mins</div>\n",
    "\n",
    "<div class=\"usecase-level-skill\">\n",
    "    <div class=\"usecase-level\"><b>Level: </b>Beginner</div>\n",
    "    <div class=\"usecase-skill\"><b>Pre-requisite Skills: </b>Python</div>\n",
    "</div>"
   ]
  },
  {
   "cell_type": "markdown",
   "metadata": {},
   "source": [
    "<div class=\"usecase-section-header\">Scenario</div>"
   ]
  },
  {
   "cell_type": "markdown",
   "metadata": {},
   "source": [
    "**1. As a city planner, I want to identify the locations which could most benefit from retrofitting with a green roof.**\n",
    "\n",
    "**2. As a building manager or owner of a residence, I want to visualise the potential of retrofitting my building for energy efficiency and greening.**\n",
    "\n"
   ]
  },
  {
   "cell_type": "markdown",
   "metadata": {},
   "source": [
    "<div class=\"usecase-section-header\">Learning objectives</div>"
   ]
  },
  {
   "cell_type": "markdown",
   "metadata": {},
   "source": [
    "At the end of this use case you will be able to:\n",
    "\n",
    "- work with spatial databases using Geopandas\n",
    "\n",
    "- visualise spatial data on an interactive map\n",
    "\n"
   ]
  },
  {
   "cell_type": "markdown",
   "metadata": {},
   "source": [
    "<div class=\"usecase-section-header\">Why the interest in green roofs?</div>\n",
    "\n"
   ]
  },
  {
   "cell_type": "markdown",
   "metadata": {},
   "source": [
    "##### **What is a green roof?**\n",
    "\n",
    "<fn id=\"fn-14\">Green roofs are rooftops systems with plants in a growing medium, which are usually irrigated in drier climates. They can be:</fn>\n",
    "\n",
    "- _Extensive_: growing in a shallower medium, generally low growing plants like succulents or grasses\n",
    "- _Intensive_: growing in a deeper medium, with taller vegetation including shrubs or trees\n",
    "- _Semi-intensive_: partway between\n",
    "\n",
    "In Melbourne's climate even extensive green roofs may need to be irrigated.\n",
    "\n",
    "##### **How is this relevant to Melbourne?**\n",
    "\n",
    "Roofs make up about 23% of the total space in the City of Melbourne <a href=\"#fn-1\">[1]</a>, and over 90% of rooftops which are suitable for extensive roofs are also suitable for intensive. Therefore, there is a significant potential for green roofs to contribute to the urban forest target the council has set for 2040 <a href=\"#fn-2\">[2]</a>.\n",
    "\n",
    "Building turnover in the centre of Melbourne is slow, therefore the best approach is to identify retrofitting opportunities in the suitable existing buildings <a href=\"#fn-2\">[2]</a>.\n",
    "\n",
    "Urban areas with an elevated temperature relative to the rural surroundings is known as the urban heat island (UHI) effect <a href=\"#fn-3\">[3]</a>. It can refer to both the urban surface temperatures on roads, footpaths, and building envelopes as well as the ambient temperature. There is evidence of the UHI in Melbourne with an average annual intensity of approximately 1.5 degrees Celsius <a href=\"#fn-4\">[4]</a>.\n",
    "\n",
    "The UHI threatens the economy by reducing productivity, increases the need for cooling and thus impacts energy consumption, and is associated with poorer air quality and a number of health risks <a href=\"#fn-5\">[5]</a>. In Melbourne, simulations of thermal environments for residential buildings indicate that doubling the amount of vegetation is estimated to reduce heat-related deaths by 5-28%. <a href=\"#fn-6\">[6]</a>.\n",
    "\n",
    "##### **What are the benefits of green roofs?**\n",
    "\n",
    "Green roofs and walls mitigate the UHI by providing shade which blocks solar radiation from reaching urban surfaces, and by the vegetation absorbing and dissipating the radiation. This provides energy savings to the building owner, as well as cooling and comfort to the building users. For private businesses, this can improve productivity due to the improved interior comfort, and due to the psychological benefits of viewing vegetation <a href=\"#fn-7\">[7]</a>.\n",
    "\n",
    "In Melbourne, extensive green roofs were shown to reduce building energy use by 28% in summer <a href=\"#fn-7\">[7]</a>. Urban vegetation also increases urban ecology and biodiversity and provides amenity to the people using the urban spaces <a href=\"#fn-8\">[8]</a>. Green roofs make buildings cooler in summer and warmer in winter, provide barriers against noise pollution by reflecting sound as well as produce oxygen whilst capturing CO2 and other pollutants <a href=\"#fn-9\">[9]</a>. Ideally, trees should be used in combination with grasses, shrubs and planters for the optimum cooling effect <a href=\"#fn-10\">[10]</a>, and it is more effective to use multiple UHI mitigation strategies at the same time (cool materials, green roofs, green walls, and urban greenery) <a href=\"#fn-4\">[4]</a>.\n",
    "\n",
    "In addition, green roofs are an effective and sustainable tool to assist with the management of stormwater quality and quantity. The rainwater is initially stored in the soil and then the vegetation, often reducing peak runoff and volume in contrast to conventional roofs. A study conducted in the highly urbanized city of Seoul, South Korea, found the green roof to have an average runoff retention ranging from 10% to 60% <a href=\"#fn-11\">[11]</a> whilst a study simulating Melbourne's rainfall patterns, commonly frequent and small, found they had the potential to retain up to 90% each rainfall <a href=\"#fn-12\">[12]</a>. These effects, in combination with the delaying of runoff, can greatly reduce the chances of flash flooding in highly urbanized areas and the load on urban drainage <a href=\"#fn-13\">[13]</a>.\n"
   ]
  },
  {
   "cell_type": "markdown",
   "metadata": {},
   "source": [
    "<div class=\"usecase-section-header\">Relevant datasets</div>"
   ]
  },
  {
   "cell_type": "markdown",
   "metadata": {},
   "source": [
    "##### **The Rooftop Project**\n",
    "\n",
    "This dataset uses a spatial multi-criteria analysis to classify buildings based on the possibility of adapting their rooftops for either intensive or extensive greenroofs. The buildings are located in the City of Melbourne.\n",
    "\n",
    "- [Rooftop datasets](https://data.melbourne.vic.gov.au/Environment/Rooftops-with-environmental-retrofitting-opportuni/3927-sgfc)\n",
    "\n",
    "****\n",
    "\n",
    "##### **Building Energy Consumption**\n",
    "\n",
    "This dataset outlines a model of energy consumption in megawatt hours in the City of Melbourne based on building attributes (age, floor area, etc) and is presented at property level scale. This model was developed by the CSIRO based on a baseline from 2011 to compare a potential reduction in energy consumption available in retrofitting is done. This retrofitting could be done demand-side (improving energy efficiency) or supply-side (by generating electricity on-site). The supply side considered roof size for placement of solar panels, but only considered 10% of that space to be potentially available for solar panels. The \"business as usual\" projections are property-level, but the retrofit scenario only is at block level due to privacy reasons.\n",
    "\n",
    "- [Property level energy consumption - business as usual](https://data.melbourne.vic.gov.au/Environment/Property-level-energy-consumption-modelled-on-buil/fyes-zqbt)\n",
    "- [Block level energy consumption - model for 2026](https://data.melbourne.vic.gov.au/Environment/Block-level-energy-consumption-modelled-on-buildin/pyua-izk6)\n",
    "\n",
    "****\n",
    "\n",
    "##### **Urban Heat and Heat Vulnerability Index (HVI)**\n",
    "\n",
    "These datasets come from the Cooling and Greening Melbourne Interactive map made available by the state government. The urban heat dataset shows how many degrees Celsius the average temperature is above the baseline, when measuring within urban parts of a boundary area and using a non-urban baseline. The HVI refers to how vulnerable specific populations are to extreme heat events as indicated by heat exposure, sensitivity to heat, and adaptive capability.\n",
    "\n",
    "- [Access the Cooling and Greening Melbourne Interactive Map to download the data](https://www.planning.vic.gov.au/policy-and-strategy/planning-for-melbourne/plan-melbourne/cooling-greening-melbourne/cooling-and-greening-melbourne-interactive-map)\n",
    "\n",
    "****\n",
    "\n",
    "The rooftop and urban heat/HVI datasets are not accessible via the Socrata API, they need to be downloaded from the links above onto your local machine. Please note that the Urban Heat and HVI datasets are only downloadable over a mixed security connection which will be automatically blocked by any Chromium browser.\n",
    "\n"
   ]
  },
  {
   "cell_type": "code",
   "execution_count": 1,
   "metadata": {},
   "outputs": [],
   "source": [
    "# Working with the data\n",
    "import numpy as np\n",
    "import pandas as pd\n",
    "import geopandas as gpd\n",
    "from shapely.geometry import Polygon\n",
    "from sklearn.preprocessing import LabelEncoder\n",
    "import json\n",
    "\n",
    "# Visualisation\n",
    "import matplotlib.pylab as plt\n",
    "import folium\n",
    "from folium import plugins\n",
    "import seaborn as sns\n",
    "import branca.colormap as cm\n",
    "\n",
    "%matplotlib inline"
   ]
  },
  {
   "cell_type": "markdown",
   "metadata": {},
   "source": [
    "<div class=\"usecase-section-header\">Accessing and loading the datasets</div>\n",
    "\n",
    "**Loading the energy consumption datasets**\n",
    "\n",
    "The building energy consumption datasets are available by SODA API, available in the 'Export' tab at the website linked above. Since for this analysis the 2026 business as usual data will act as a baseline, it will be referred to as the baseline data."
   ]
  },
  {
   "cell_type": "code",
   "execution_count": 12,
   "metadata": {},
   "outputs": [
    {
     "data": {
      "text/plain": [
       "('https://data.melbourne.vic.gov.au/api/v2/catalog/datasets/block-level-energy-consumption-modelled-on-building-attributes-2026-projection-b/records?limit=10&offset=0&timezone=UTC',\n",
       " 'https://data.melbourne.vic.gov.au/api/v2/catalog/datasets/property-level-energy-consumption-modelled-on-building-attributes-baseline-2011-/records?limit=10&offset=0&timezone=UTC')"
      ]
     },
     "execution_count": 12,
     "metadata": {},
     "output_type": "execute_result"
    }
   ],
   "source": [
    "# Import the datasets from the API endpoint\n",
    "# Block level energy consumption dataset URL\n",
    "# https://data.melbourne.vic.gov.au/api/v2/catalog/datasets/block-level-energy-consumption-modelled-on-building-attributes-2026-projection-b/records?limit=10&offset=0&timezone=UTC\n",
    "\n",
    "BASE_URL = 'https://data.melbourne.vic.gov.au/api/v2/catalog/datasets/'\n",
    "\n",
    "BLOCK_ENERGY_DATASET = 'block-level-energy-consumption-modelled-on-building-attributes-2026-projection-b'\n",
    "\n",
    "FILTER_1 = 'records?limit=10&offset=0&timezone=UTC'\n",
    "\n",
    "BLOCK_DATASET_URL = f'{BASE_URL}{BLOCK_ENERGY_DATASET}/{FILTER_1}'\n",
    "\n",
    "\n",
    "# Property level enrgy consumption dataset URL\n",
    "# https://data.melbourne.vic.gov.au/api/v2/catalog/datasets/property-level-energy-consumption-modelled-on-building-attributes-baseline-2011-/records?limit=10&offset=0&timezone=UTC\n",
    "\n",
    "PROP_ENERGY_DATASET = 'property-level-energy-consumption-modelled-on-building-attributes-baseline-2011-'\n",
    "\n",
    "FILTER_2 = 'records?limit=10&offset=0&timezone=UTC'\n",
    "\n",
    "PROP_DATASET_URL = f'{BASE_URL}{PROP_ENERGY_DATASET}/{FILTER_2}'\n",
    "\n",
    "# Display the property energy consumption and block level energy consumption datasets URL's\n",
    "BLOCK_DATASET_URL, PROP_DATASET_URL"
   ]
  },
  {
   "cell_type": "code",
   "execution_count": 14,
   "metadata": {
    "scrolled": true
   },
   "outputs": [
    {
     "data": {
      "text/plain": [
       "(<Response [200]>, <Response [200]>)"
      ]
     },
     "execution_count": 14,
     "metadata": {},
     "output_type": "execute_result"
    }
   ],
   "source": [
    "import requests\n",
    "\n",
    "# Use requests to get the data from both datasets\n",
    "result_1 = requests.get(BLOCK_DATASET_URL)\n",
    "result_2 = requests.get(PROP_DATASET_URL)\n",
    "\n",
    "#Checking the status of the request\n",
    "result_1, result_2"
   ]
  },
  {
   "cell_type": "code",
   "execution_count": 16,
   "metadata": {
    "scrolled": false
   },
   "outputs": [
    {
     "data": {
      "text/plain": [
       "('{\"total_count\": 628, \"links\": [{\"rel\": \"self\", \"href\": \"https://data.melbourne.vic.gov.au/api/v2/catalog/datasets/block-level-energy-consumption-modelled-on-building-attributes-2026-projection-b/records?limit=10&offset=0&timezone=UTC&include_app_metas=False\"}, {\"rel\": \"first\", \"href\": \"https://data.melbourne.vic.gov.au/api/v2/catalog/datasets/block-level-energy-consumption-modelled-on-building-attributes-2026-projection-b/records?limit=10&offset=0&timezone=UTC&include_app_metas=False\"}, {\"rel\": \"last\", \"href\": \"https://data.melbourne.vic.gov.au/api/v2/catalog/datasets/block-level-energy-consumption-modelled-on-building-attributes-2026-projection-b/records?limit=10&offset=620&timezone=UTC&include_app_metas=False\"}, {\"rel\": \"next\", \"href\": \"https://data.melbourne.vic.gov.au/api/v2/catalog/datasets/block-level-energy-consumption-modelled-on-building-attributes-2026-projection-b/records?limit=10&offset=10&timezone=UTC&include_app_metas=False\"}], \"records\": [{\"links\": [{\"rel\": \"self\", \"href\": \"https://data.melbourne.vic.gov.au/api/v2/catalog/datasets/block-level-energy-consumption-modelled-on-building-attributes-2026-projection-b/records/9afe20b5f5d0a8ce14d15e0c38ade73ac7fec668\"}, {\"rel\": \"datasets\", \"href\": \"https://data.melbourne.vic.gov.au/api/v2/catalog/datasets\"}, {\"rel\": \"dataset\", \"href\": \"https://data.melbourne.vic.gov.au/api/v2/catalog/datasets/block-level-energy-consumption-modelled-on-building-attributes-2026-projection-b\"}], \"record\": {\"id\": \"9afe20b5f5d0a8ce14d15e0c38ade73ac7fec668\", \"timestamp\": \"2022-11-13T10:00:42.941Z\", \"size\": 476, \"fields\": {\"geo_point_2d\": {\"lon\": 144.9824102163475, \"lat\": -37.84918262859423}, \"geo_shape\": {\"type\": \"Feature\", \"geometry\": {\"coordinates\": [[[[144.98426137986064, -37.84952371191704], [144.98409114852075, -37.850554572860084], [144.98337126970674, -37.85046259227049], [144.98097527533264, -37.850156417160115], [144.98055977052883, -37.84901734839082], [144.98013974942498, -37.847865863753455], [144.9844483999626, -37.84839114488955], [144.98427393089824, -37.84944770576964], [144.98426137986064, -37.84952371191704]]]], \"type\": \"MultiPolygon\"}, \"properties\": {}}, \"comm\": 4957.194073, \"num_b_prop\": 2, \"resi\": 2.825183e-05, \"total\": 4957.19410125}}}, {\"links\": [{\"rel\": \"self\", \"href\": \"https://data.melbourne.vic.gov.au/api/v2/catalog/datasets/block-level-energy-consumption-modelled-on-building-attributes-2026-projection-b/records/53d1b949b4dc57e037fe9247c0a25438c41cc4dc\"}, {\"rel\": \"datasets\", \"href\": \"https://data.melbourne.vic.gov.au/api/v2/catalog/datasets\"}, {\"rel\": \"dataset\", \"href\": \"https://data.melbourne.vic.gov.au/api/v2/catalog/datasets/block-level-energy-consumption-modelled-on-building-attributes-2026-projection-b\"}], \"record\": {\"id\": \"53d1b949b4dc57e037fe9247c0a25438c41cc4dc\", \"timestamp\": \"2022-11-13T10:00:42.941Z\", \"size\": 561, \"fields\": {\"geo_point_2d\": {\"lon\": 144.98213235773974, \"lat\": -37.84662688494784}, \"geo_shape\": {\"type\": \"Feature\", \"geometry\": {\"coordinates\": [[[[144.98463712100093, -37.847299479644185], [144.98448215340804, -37.84820916622231], [144.98079822811104, -37.847760018986584], [144.98008031738723, -37.84767247670179], [144.9798755856366, -37.84711027469207], [144.97912613634568, -37.84505218378557], [144.9803040122196, -37.845205229380326], [144.98037389134416, -37.845214308724394], [144.98489233083464, -37.84580129604606], [144.98465942765682, -37.847168533968656], [144.98463712100093, -37.847299479644185]]]], \"type\": \"MultiPolygon\"}, \"properties\": {}}, \"comm\": 64814.3944554, \"num_b_prop\": 9, \"resi\": 2567.6849525, \"total\": 67382.0794079}}}, {\"links\": [{\"rel\": \"self\", \"href\": \"https://data.melbourne.vic.gov.au/api/v2/catalog/datasets/block-level-energy-consumption-modelled-on-building-attributes-2026-projection-b/records/db89a5b875146152dab6578588a1f00d70db3015\"}, {\"rel\": \"datasets\", \"href\": \"https://data.melbourne.vic.gov.au/api/v2/catalog/datasets\"}, {\"rel\": \"dataset\", \"href\": \"https://data.melbourne.vic.gov.au/api/v2/catalog/datasets/block-level-energy-consumption-modelled-on-building-attributes-2026-projection-b\"}], \"record\": {\"id\": \"db89a5b875146152dab6578588a1f00d70db3015\", \"timestamp\": \"2022-11-13T10:00:42.941Z\", \"size\": 466, \"fields\": {\"geo_point_2d\": {\"lon\": 144.98483646467153, \"lat\": -37.844132295075795}, \"geo_shape\": {\"type\": \"Feature\", \"geometry\": {\"coordinates\": [[[[144.98529111890545, -37.84379230816057], [144.98512104148912, -37.84457526912271], [144.9847687090302, -37.84452422363719], [144.98473008288556, -37.84452002076471], [144.98438128896268, -37.8444746760557], [144.9845534412937, -37.84368884096757], [144.98490733060117, -37.84373806629924], [144.98494502731256, -37.84374508300164], [144.98529111890545, -37.84379230816057]]]], \"type\": \"MultiPolygon\"}, \"properties\": {}}, \"comm\": 0.0, \"num_b_prop\": 13, \"resi\": 66.2340819935, \"total\": 66.2340819935}}}, {\"links\": [{\"rel\": \"self\", \"href\": \"https://data.melbourne.vic.gov.au/api/v2/catalog/datasets/block-level-energy-consumption-modelled-on-building-attributes-2026-projection-b/records/4f6161c0d09a8f504284331575999f0b5b12bbcd\"}, {\"rel\": \"datasets\", \"href\": \"https://data.melbourne.vic.gov.au/api/v2/catalog/datasets\"}, {\"rel\": \"dataset\", \"href\": \"https://data.melbourne.vic.gov.au/api/v2/catalog/datasets/block-level-energy-consumption-modelled-on-building-attributes-2026-projection-b\"}], \"record\": {\"id\": \"4f6161c0d09a8f504284331575999f0b5b12bbcd\", \"timestamp\": \"2022-11-13T10:00:42.941Z\", \"size\": 465, \"fields\": {\"geo_point_2d\": {\"lon\": 144.98515315955768, \"lat\": -37.84218330812017}, \"geo_shape\": {\"type\": \"Feature\", \"geometry\": {\"coordinates\": [[[[144.9855461804882, -37.84253066979061], [144.98546594924125, -37.84292160549242], [144.9845651072796, -37.842802154030196], [144.98483811260553, -37.841444234669844], [144.9857437246753, -37.84156810961699], [144.98563924912895, -37.84207719357423], [144.9856374286443, -37.84208604789806], [144.9855545260107, -37.842490001758556], [144.9855461804882, -37.84253066979061]]]], \"type\": \"MultiPolygon\"}, \"properties\": {}}, \"comm\": 0.0, \"num_b_prop\": 19, \"resi\": 162.968659394, \"total\": 162.968659394}}}, {\"links\": [{\"rel\": \"self\", \"href\": \"https://data.melbourne.vic.gov.au/api/v2/catalog/datasets/block-level-energy-consumption-modelled-on-building-attributes-2026-projection-b/records/f007785138cfae33e6dfe50da33b5c62347d10dd\"}, {\"rel\": \"datasets\", \"href\": \"https://data.melbourne.vic.gov.au/api/v2/catalog/datasets\"}, {\"rel\": \"dataset\", \"href\": \"https://data.melbourne.vic.gov.au/api/v2/catalog/datasets/block-level-energy-consumption-modelled-on-building-attributes-2026-projection-b\"}], \"record\": {\"id\": \"f007785138cfae33e6dfe50da33b5c62347d10dd\", \"timestamp\": \"2022-11-13T10:00:42.941Z\", \"size\": 388, \"fields\": {\"geo_point_2d\": {\"lon\": 144.98571840157194, \"lat\": -37.83972056954812}, \"geo_shape\": {\"type\": \"Feature\", \"geometry\": {\"coordinates\": [[[[144.98619922006253, -37.839367786264205], [144.9860351532768, -37.84017741921471], [144.9856914360751, -37.84013288705302], [144.9856560187019, -37.84012829580801], [144.98523931845924, -37.84007430592606], [144.98539971832304, -37.83926402565322], [144.98619922006253, -37.839367786264205]]]], \"type\": \"MultiPolygon\"}, \"properties\": {}}, \"comm\": 0.0, \"num_b_prop\": 17, \"resi\": 83.4867521039, \"total\": 83.4867521039}}}, {\"links\": [{\"rel\": \"self\", \"href\": \"https://data.melbourne.vic.gov.au/api/v2/catalog/datasets/block-level-energy-consumption-modelled-on-building-attributes-2026-projection-b/records/1b30c73da61455d8a6d3366fecdbaeaebe93f369\"}, {\"rel\": \"datasets\", \"href\": \"https://data.melbourne.vic.gov.au/api/v2/catalog/datasets\"}, {\"rel\": \"dataset\", \"href\": \"https://data.melbourne.vic.gov.au/api/v2/catalog/datasets/block-level-energy-consumption-modelled-on-building-attributes-2026-projection-b\"}], \"record\": {\"id\": \"1b30c73da61455d8a6d3366fecdbaeaebe93f369\", \"timestamp\": \"2022-11-13T10:00:42.941Z\", \"size\": 1680, \"fields\": {\"geo_point_2d\": {\"lon\": 144.9759475423205, \"lat\": -37.83544394817593}, \"geo_shape\": {\"type\": \"Feature\", \"geometry\": {\"coordinates\": [[[[144.97632715219194, -37.83606901176402], [144.9762563750016, -37.83640615871644], [144.9761399009999, -37.83628392066829], [144.9760268633846, -37.836159670167305], [144.9759336986734, -37.836052324224546], [144.9759143845233, -37.83602904510988], [144.9759015478295, -37.836014137439165], [144.97588237266032, -37.835990461555255], [144.97584337718618, -37.835943460664836], [144.97584413862347, -37.835943253333625], [144.97578145748102, -37.835865859698295], [144.9756751195757, -37.83572640912148], [144.97557339901326, -37.83558480863279], [144.9754763648276, -37.83544115436951], [144.97546807251072, -37.83542902636817], [144.97546399850512, -37.83542306793133], [144.9754606091871, -37.83541811096172], [144.97539810851907, -37.835324395701434], [144.97538528292003, -37.83530387736145], [144.97536991694366, -37.83528061027077], [144.9753275509023, -37.835211517767185], [144.97529886913168, -37.83516563262122], [144.97529081992192, -37.835151615069556], [144.97528123844333, -37.8351359891036], [144.97523142396633, -37.83504817792382], [144.97520626682478, -37.83500436705523], [144.97520250927988, -37.83499720804675], [144.97519804200846, -37.83498933327808], [144.97512040173382, -37.83484077346459], [144.97586390936817, -37.83494056883995], [144.97623575710426, -37.834991218868254], [144.9762710441471, -37.83499559135571], [144.97654443509077, -37.835031643861214], [144.9764603316049, -37.835436626122295], [144.97645315081195, -37.83546803401409], [144.97636644669103, -37.83587981972135], [144.97636091335247, -37.83590817069119], [144.97636080521448, -37.835908704411246], [144.97632715219194, -37.83606901176402]]]], \"type\": \"MultiPolygon\"}, \"properties\": {}}, \"comm\": 3165.54881117, \"num_b_prop\": 20, \"resi\": 508.671614082, \"total\": 3674.22042525}}}, {\"links\": [{\"rel\": \"self\", \"href\": \"https://data.melbourne.vic.gov.au/api/v2/catalog/datasets/block-level-energy-consumption-modelled-on-building-attributes-2026-projection-b/records/2dba1add07f51aa02c198722999cf42b12de74d7\"}, {\"rel\": \"datasets\", \"href\": \"https://data.melbourne.vic.gov.au/api/v2/catalog/datasets\"}, {\"rel\": \"dataset\", \"href\": \"https://data.melbourne.vic.gov.au/api/v2/catalog/datasets/block-level-energy-consumption-modelled-on-building-attributes-2026-projection-b\"}], \"record\": {\"id\": \"2dba1add07f51aa02c198722999cf42b12de74d7\", \"timestamp\": \"2022-11-13T10:00:42.941Z\", \"size\": 1434, \"fields\": {\"geo_point_2d\": {\"lon\": 144.98595705324735, \"lat\": -37.83641509647135}, \"geo_shape\": {\"type\": \"Feature\", \"geometry\": {\"coordinates\": [[[[144.9871377089281, -37.83489883290104], [144.9869425687222, -37.83581106574158], [144.9869145918222, -37.835827139028005], [144.98603297921784, -37.83572225419108], [144.98601633104116, -37.835720221105454], [144.9858107312753, -37.83569684186385], [144.98577120997547, -37.83587024451782], [144.98689564293474, -37.836004480095816], [144.98668987787124, -37.83699389286069], [144.98666412406416, -37.837007871126744], [144.98556608812038, -37.836885569687865], [144.98552738047073, -37.83706660107419], [144.9866207182118, -37.837189192032746], [144.98663974982543, -37.83720889268845], [144.98642481625586, -37.8382167430192], [144.98482864746504, -37.838026291535904], [144.9848066639939, -37.837997744701354], [144.98510918497186, -37.83658039185389], [144.98511381116873, -37.83655871675857], [144.9854286873175, -37.83508341220091], [144.98543318654524, -37.835050587815175], [144.98552553614363, -37.8346183899685], [144.98705092324983, -37.8348035236241], [144.98706696868035, -37.83480651926814], [144.9870822155621, -37.834811488365006], [144.98709628069736, -37.834818306027245], [144.98710881058878, -37.83482680090753], [144.98711949032375, -37.83483675950532], [144.98712805148904, -37.83484793153242], [144.98713427891704, -37.834860036203715], [144.98713801609307, -37.83487276929379], [144.98713916909, -37.834885810783106], [144.9871377089281, -37.83489883290104]]]], \"type\": \"MultiPolygon\"}, \"properties\": {}}, \"comm\": 300.749057, \"num_b_prop\": 59, \"resi\": 1326.95221077, \"total\": 1627.70126777}}}, {\"links\": [{\"rel\": \"self\", \"href\": \"https://data.melbourne.vic.gov.au/api/v2/catalog/datasets/block-level-energy-consumption-modelled-on-building-attributes-2026-projection-b/records/0216dfb0f36c8d15d954762cdb2f8528c8dc1eb4\"}, {\"rel\": \"datasets\", \"href\": \"https://data.melbourne.vic.gov.au/api/v2/catalog/datasets\"}, {\"rel\": \"dataset\", \"href\": \"https://data.melbourne.vic.gov.au/api/v2/catalog/datasets/block-level-energy-consumption-modelled-on-building-attributes-2026-projection-b\"}], \"record\": {\"id\": \"0216dfb0f36c8d15d954762cdb2f8528c8dc1eb4\", \"timestamp\": \"2022-11-13T10:00:42.941Z\", \"size\": 476, \"fields\": {\"geo_point_2d\": {\"lon\": 144.98454033414217, \"lat\": -37.83623671802662}, \"geo_shape\": {\"type\": \"Feature\", \"geometry\": {\"coordinates\": [[[[144.98536190559653, -37.83473604011838], [144.98465684105773, -37.838005227945935], [144.9836997082114, -37.837880436654906], [144.98435940215822, -37.83471793396088], [144.98440562769915, -37.8344963404859], [144.98442550371288, -37.83448495580083], [144.98537306490192, -37.834603060562955], [144.98538721170314, -37.83461868516468], [144.98536190559653, -37.83473604011838]]]], \"type\": \"MultiPolygon\"}, \"properties\": {}}, \"comm\": 172.393503, \"num_b_prop\": 34, \"resi\": 686.828524999, \"total\": 859.222027999}}}, {\"links\": [{\"rel\": \"self\", \"href\": \"https://data.melbourne.vic.gov.au/api/v2/catalog/datasets/block-level-energy-consumption-modelled-on-building-attributes-2026-projection-b/records/d02241fd474d54f4df542fe527839b2d9fdb1667\"}, {\"rel\": \"datasets\", \"href\": \"https://data.melbourne.vic.gov.au/api/v2/catalog/datasets\"}, {\"rel\": \"dataset\", \"href\": \"https://data.melbourne.vic.gov.au/api/v2/catalog/datasets/block-level-energy-consumption-modelled-on-building-attributes-2026-projection-b\"}], \"record\": {\"id\": \"d02241fd474d54f4df542fe527839b2d9fdb1667\", \"timestamp\": \"2022-11-13T10:00:42.941Z\", \"size\": 1346, \"fields\": {\"geo_point_2d\": {\"lon\": 144.98260108305556, \"lat\": -37.83598772325923}, \"geo_shape\": {\"type\": \"Feature\", \"geometry\": {\"coordinates\": [[[[144.98257781527298, -37.83771532063165], [144.98255001424835, -37.83773105522583], [144.98241331926005, -37.83771272270459], [144.98206101429432, -37.83766548335236], [144.98204978952822, -37.837663597074176], [144.98202375484323, -37.83765604954161], [144.9820001445974, -37.83764453164251], [144.9819798872207, -37.83762952576435], [144.98196380224354, -37.83761162203358], [144.9819516564815, -37.837591861141995], [144.9819456553785, -37.83757039895098], [144.98194516187732, -37.83754841882335], [144.98194512324943, -37.83753931921932], [144.9820102773492, -37.837236693356864], [144.98201501433647, -37.837211316464696], [144.98214711114895, -37.83652956706208], [144.9823124663021, -37.83574166807163], [144.98232348757674, -37.83568915260769], [144.98235534736432, -37.83553734205566], [144.98236688129026, -37.83548238270924], [144.98254651273996, -37.834626430585296], [144.98255386661094, -37.834597575017355], [144.98262905730496, -37.83425209374709], [144.98328292012576, -37.83433757980025], [144.98320918504055, -37.8346877094861], [144.98320295446962, -37.83471246596707], [144.9826644503483, -37.83729922680669], [144.98265937922773, -37.83732353461441], [144.9826470892469, -37.83738257584628], [144.98262108986478, -37.83750729355389], [144.98257781527298, -37.83771532063165]]]], \"type\": \"MultiPolygon\"}, \"properties\": {}}, \"comm\": 0.0, \"num_b_prop\": 87, \"resi\": 623.924164046, \"total\": 623.924164046}}}, {\"links\": [{\"rel\": \"self\", \"href\": \"https://data.melbourne.vic.gov.au/api/v2/catalog/datasets/block-level-energy-consumption-modelled-on-building-attributes-2026-projection-b/records/e72a0044a1338409c96e1cbe1679edade5b0b3f6\"}, {\"rel\": \"datasets\", \"href\": \"https://data.melbourne.vic.gov.au/api/v2/catalog/datasets\"}, {\"rel\": \"dataset\", \"href\": \"https://data.melbourne.vic.gov.au/api/v2/catalog/datasets/block-level-energy-consumption-modelled-on-building-attributes-2026-projection-b\"}], \"record\": {\"id\": \"e72a0044a1338409c96e1cbe1679edade5b0b3f6\", \"timestamp\": \"2022-11-13T10:00:42.941Z\", \"size\": 2736, \"fields\": {\"geo_point_2d\": {\"lon\": 144.98650403714865, \"lat\": -37.83302474401652}, \"geo_shape\": {\"type\": \"Feature\", \"geometry\": {\"coordinates\": [[[[144.98709497296258, -37.83093600056061], [144.98668996121685, -37.83289942975578], [144.9863854261535, -37.83286222992493], [144.98636287034083, -37.832972183402475], [144.98666755343243, -37.83300805546568], [144.98680811314694, -37.83302460412156], [144.9874927252083, -37.833105203490675], [144.9874076778024, -37.833550441599066], [144.98736997934222, -37.83357502095338], [144.9866369918931, -37.83348955953352], [144.98661714170925, -37.833486127876355], [144.98659813824926, -37.833480429595326], [144.9865803905577, -37.83347258734451], [144.98656428064854, -37.833462769926406], [144.9865492372881, -37.83345613446688], [144.9865331654679, -37.83345124573199], [144.98651638565522, -37.83344820120157], [144.98649923243454, -37.83344706158257], [144.98648204783555, -37.83344784959864], [144.98646256821607, -37.8334511457742], [144.98644402543684, -37.83345691392845], [144.98642691456226, -37.83346500006026], [144.98641169242734, -37.83347518828214], [144.986398765441, -37.83348720658379], [144.98638847873576, -37.83350073409445], [144.98638110695288, -37.83351540964951], [144.98637684691, -37.83353084143306], [144.98637583200863, -37.83354709891611], [144.9863782701348, -37.833563261045], [144.98638409218933, -37.8335788697531], [144.9863931331658, -37.8335934826585], [144.9864051368264, -37.833606685602064], [144.9864197629647, -37.83361810438562], [144.9864365970472, -37.83362741537748], [144.9864551619622, -37.83363435468498], [144.98647493154218, -37.83363872563378], [144.98649534547638, -37.83364040434207], [144.98651582519165, -37.83363934323173], [144.98653579025034, -37.83363557237679], [144.9865537135928, -37.833630202070346], [144.98657239998954, -37.83362684528265], [144.98659149171755, -37.83362556627431], [144.98661062329444, -37.83362638953012], [144.987338206998, -37.83371266319007], [144.9873710081085, -37.83374536868808], [144.98721935127745, -37.83455469237741], [144.98721569161387, -37.83456730913042], [144.9872095873384, -37.834579316147334], [144.9872011888966, -37.83459041750204], [144.98719070327618, -37.83460033958939], [144.98717838890641, -37.834608837868515], [144.98716454928822, -37.83461570288969], [144.98714952551427, -37.834620765456854], [144.98713368786238, -37.834623900797226], [144.98711742666953, -37.83462503163679], [144.98710114271142, -37.834624130104785], [144.985565360813, -37.83444218077211], [144.98565824486602, -37.83399608394303], [144.98566488639597, -37.833961397530295], [144.9857517607492, -37.833545071865586], [144.98577452626364, -37.83343597181142], [144.98631136157098, -37.83086318317365], [144.98635122471464, -37.830840436981354], [144.98674589663935, -37.83089079495727], [144.98679133529447, -37.83089700594954], [144.98709497296258, -37.83093600056061]]]], \"type\": \"MultiPolygon\"}, \"properties\": {}}, \"comm\": 201.93248, \"num_b_prop\": 59, \"resi\": 752.75493517, \"total\": 954.68741517}}}]}',\n",
       " '{\"total_count\": 13587, \"links\": [{\"rel\": \"self\", \"href\": \"https://data.melbourne.vic.gov.au/api/v2/catalog/datasets/property-level-energy-consumption-modelled-on-building-attributes-baseline-2011-/records?limit=10&offset=0&timezone=UTC&include_app_metas=False\"}, {\"rel\": \"first\", \"href\": \"https://data.melbourne.vic.gov.au/api/v2/catalog/datasets/property-level-energy-consumption-modelled-on-building-attributes-baseline-2011-/records?limit=10&offset=0&timezone=UTC&include_app_metas=False\"}, {\"rel\": \"last\", \"href\": \"https://data.melbourne.vic.gov.au/api/v2/catalog/datasets/property-level-energy-consumption-modelled-on-building-attributes-baseline-2011-/records?limit=10&offset=13580&timezone=UTC&include_app_metas=False\"}, {\"rel\": \"next\", \"href\": \"https://data.melbourne.vic.gov.au/api/v2/catalog/datasets/property-level-energy-consumption-modelled-on-building-attributes-baseline-2011-/records?limit=10&offset=10&timezone=UTC&include_app_metas=False\"}], \"records\": [{\"links\": [{\"rel\": \"self\", \"href\": \"https://data.melbourne.vic.gov.au/api/v2/catalog/datasets/property-level-energy-consumption-modelled-on-building-attributes-baseline-2011-/records/6292ca48f5644f4042e8e39d645548f1af017290\"}, {\"rel\": \"datasets\", \"href\": \"https://data.melbourne.vic.gov.au/api/v2/catalog/datasets\"}, {\"rel\": \"dataset\", \"href\": \"https://data.melbourne.vic.gov.au/api/v2/catalog/datasets/property-level-energy-consumption-modelled-on-building-attributes-baseline-2011-\"}], \"record\": {\"id\": \"6292ca48f5644f4042e8e39d645548f1af017290\", \"timestamp\": \"2022-11-13T10:00:48.701Z\", \"size\": 417, \"fields\": {\"geo_point_2d\": {\"lon\": 144.94499251543567, \"lat\": -37.803829913238744}, \"geo_shape\": {\"type\": \"Feature\", \"geometry\": {\"coordinates\": [[[[144.94514309252298, -37.80380143207139], [144.94512691861442, -37.80389085366716], [144.94484248406363, -37.803859016010286], [144.9448587023665, -37.80376849669999], [144.94514309252298, -37.80380143207139]]]], \"type\": \"MultiPolygon\"}, \"properties\": {}}, \"total_2011\": 5.91367321374, \"p_com_2011\": 0.0, \"p_res_2026\": 34.4396040858, \"p_com_2026\": 0.0, \"total_2026\": 34.4396040858, \"p_com_2021\": 0.0, \"property_id\": 100011.0, \"p_res_2011\": 5.91367321374, \"total_2016\": 26.3421931317, \"total_2021\": 30.2203176246, \"p_res_2021\": 30.2203176246, \"floor_area\": 255.0, \"p_res_2016\": 26.3421931317, \"p_com_2016\": 0.0}}}, {\"links\": [{\"rel\": \"self\", \"href\": \"https://data.melbourne.vic.gov.au/api/v2/catalog/datasets/property-level-energy-consumption-modelled-on-building-attributes-baseline-2011-/records/0097b85988990937444cf59e92d33ec93040e7ac\"}, {\"rel\": \"datasets\", \"href\": \"https://data.melbourne.vic.gov.au/api/v2/catalog/datasets\"}, {\"rel\": \"dataset\", \"href\": \"https://data.melbourne.vic.gov.au/api/v2/catalog/datasets/property-level-energy-consumption-modelled-on-building-attributes-baseline-2011-\"}], \"record\": {\"id\": \"0097b85988990937444cf59e92d33ec93040e7ac\", \"timestamp\": \"2022-11-13T10:00:48.701Z\", \"size\": 384, \"fields\": {\"geo_point_2d\": {\"lon\": 144.9450094179755, \"lat\": -37.8037392383391}, \"geo_shape\": {\"type\": \"Feature\", \"geometry\": {\"coordinates\": [[[[144.9451597400275, -37.80370938730574], [144.94514309254797, -37.80380143117065], [144.94485870239149, -37.80376849579925], [144.9448750024089, -37.80367752642262], [144.9451597400275, -37.80370938730574]]]], \"type\": \"MultiPolygon\"}, \"properties\": {}}, \"total_2011\": 54.0574127776, \"p_com_2011\": 54.057404, \"p_res_2026\": 0.0, \"p_com_2026\": 59.886065, \"total_2026\": 59.886065, \"p_com_2021\": 58.044081, \"property_id\": 100012.0, \"p_res_2011\": 0.0, \"total_2016\": 56.140379, \"total_2021\": 58.044081, \"p_res_2021\": 0.0, \"floor_area\": 0.0, \"p_res_2016\": 0.0, \"p_com_2016\": 56.140379}}}, {\"links\": [{\"rel\": \"self\", \"href\": \"https://data.melbourne.vic.gov.au/api/v2/catalog/datasets/property-level-energy-consumption-modelled-on-building-attributes-baseline-2011-/records/ab320606515aae50ba2ad3622d1241fff76f29d9\"}, {\"rel\": \"datasets\", \"href\": \"https://data.melbourne.vic.gov.au/api/v2/catalog/datasets\"}, {\"rel\": \"dataset\", \"href\": \"https://data.melbourne.vic.gov.au/api/v2/catalog/datasets/property-level-energy-consumption-modelled-on-building-attributes-baseline-2011-\"}], \"record\": {\"id\": \"ab320606515aae50ba2ad3622d1241fff76f29d9\", \"timestamp\": \"2022-11-13T10:00:48.701Z\", \"size\": 416, \"fields\": {\"geo_point_2d\": {\"lon\": 144.9450614676207, \"lat\": -37.80344814421259}, \"geo_shape\": {\"type\": \"Feature\", \"geometry\": {\"coordinates\": [[[[144.94520809645564, -37.803442031587814], [144.94520016108186, -37.80348590739701], [144.94491499261528, -37.8034543364891], [144.9449228771575, -37.8034103336493], [144.94520809645564, -37.803442031587814]]]], \"type\": \"MultiPolygon\"}, \"properties\": {}}, \"total_2011\": 3.81722193496, \"p_com_2011\": 0.0, \"p_res_2026\": 22.2304267942, \"p_com_2026\": 0.0, \"total_2026\": 22.2304267942, \"p_com_2021\": 0.0, \"property_id\": 100016.0, \"p_res_2011\": 3.81722193496, \"total_2016\": 17.0036274097, \"total_2021\": 19.5069187491, \"p_res_2021\": 19.5069187491, \"floor_area\": 164.6, \"p_res_2016\": 17.0036274097, \"p_com_2016\": 0.0}}}, {\"links\": [{\"rel\": \"self\", \"href\": \"https://data.melbourne.vic.gov.au/api/v2/catalog/datasets/property-level-energy-consumption-modelled-on-building-attributes-baseline-2011-/records/0a6e813010962bcb1220ecd4d9e4647554650089\"}, {\"rel\": \"datasets\", \"href\": \"https://data.melbourne.vic.gov.au/api/v2/catalog/datasets\"}, {\"rel\": \"dataset\", \"href\": \"https://data.melbourne.vic.gov.au/api/v2/catalog/datasets/property-level-energy-consumption-modelled-on-building-attributes-baseline-2011-\"}], \"record\": {\"id\": \"0a6e813010962bcb1220ecd4d9e4647554650089\", \"timestamp\": \"2022-11-13T10:00:48.701Z\", \"size\": 388, \"fields\": {\"geo_point_2d\": {\"lon\": 144.9450879361556, \"lat\": -37.80330160793391}, \"geo_shape\": {\"type\": \"Feature\", \"geometry\": {\"coordinates\": [[[[144.94524107836415, -37.80325967582445], [144.94522032386573, -37.80337443154588], [144.94493485176005, -37.803343504238065], [144.9449553964192, -37.803228835928174], [144.94524107836415, -37.80325967582445]]]], \"type\": \"MultiPolygon\"}, \"properties\": {}}, \"total_2011\": 66.4795667776, \"p_com_2011\": 66.479558, \"p_res_2026\": 0.0, \"p_com_2026\": 73.647619, \"total_2026\": 73.647619, \"p_com_2021\": 71.382355, \"property_id\": 100018.0, \"p_res_2011\": 0.0, \"total_2016\": 69.041191, \"total_2021\": 71.382355, \"p_res_2021\": 0.0, \"floor_area\": 0.0, \"p_res_2016\": 0.0, \"p_com_2016\": 69.041191}}}, {\"links\": [{\"rel\": \"self\", \"href\": \"https://data.melbourne.vic.gov.au/api/v2/catalog/datasets/property-level-energy-consumption-modelled-on-building-attributes-baseline-2011-/records/c85f821895ee9f8ffd030764ac0e770ddd1a3e45\"}, {\"rel\": \"datasets\", \"href\": \"https://data.melbourne.vic.gov.au/api/v2/catalog/datasets\"}, {\"rel\": \"dataset\", \"href\": \"https://data.melbourne.vic.gov.au/api/v2/catalog/datasets/property-level-energy-consumption-modelled-on-building-attributes-baseline-2011-\"}], \"record\": {\"id\": \"c85f821895ee9f8ffd030764ac0e770ddd1a3e45\", \"timestamp\": \"2022-11-13T10:00:48.701Z\", \"size\": 417, \"fields\": {\"geo_point_2d\": {\"lon\": 144.94511862327707, \"lat\": -37.80313100914576}, \"geo_shape\": {\"type\": \"Feature\", \"geometry\": {\"coordinates\": [[[[144.94526549030562, -37.80312470567907], [144.94525715129274, -37.80317081297014], [144.94497179424638, -37.80313731941956], [144.94498005759587, -37.80309120271952], [144.94526549030562, -37.80312470567907]]]], \"type\": \"MultiPolygon\"}, \"properties\": {}}, \"total_2011\": 3.54357010875, \"p_com_2011\": 0.0, \"p_res_2026\": 20.6367509973, \"p_com_2026\": 0.0, \"total_2026\": 20.6367509973, \"p_com_2021\": 0.0, \"property_id\": 100021.0, \"p_res_2011\": 3.54357010875, \"total_2016\": 15.7846553354, \"total_2021\": 18.1084883649, \"p_res_2021\": 18.1084883649, \"floor_area\": 152.8, \"p_res_2016\": 15.7846553354, \"p_com_2016\": 0.0}}}, {\"links\": [{\"rel\": \"self\", \"href\": \"https://data.melbourne.vic.gov.au/api/v2/catalog/datasets/property-level-energy-consumption-modelled-on-building-attributes-baseline-2011-/records/3210a871d82893a68b170c4796e4d1a97a3be830\"}, {\"rel\": \"datasets\", \"href\": \"https://data.melbourne.vic.gov.au/api/v2/catalog/datasets\"}, {\"rel\": \"dataset\", \"href\": \"https://data.melbourne.vic.gov.au/api/v2/catalog/datasets/property-level-energy-consumption-modelled-on-building-attributes-baseline-2011-\"}], \"record\": {\"id\": \"3210a871d82893a68b170c4796e4d1a97a3be830\", \"timestamp\": \"2022-11-13T10:00:48.701Z\", \"size\": 497, \"fields\": {\"geo_point_2d\": {\"lon\": 144.94512916988626, \"lat\": -37.80308648548962}, \"geo_shape\": {\"type\": \"Feature\", \"geometry\": {\"coordinates\": [[[[144.94527364280145, -37.803079631483506], [144.94526549030562, -37.80312470567907], [144.94498005759587, -37.80309120271952], [144.9449873468902, -37.8030505193252], [144.94504991439695, -37.803057522884494], [144.94505030802736, -37.80305520472262], [144.94527364280145, -37.803079631483506]]]], \"type\": \"MultiPolygon\"}, \"properties\": {}}, \"total_2011\": 3.73373493713, \"p_com_2011\": 0.0, \"p_res_2026\": 21.7442206189, \"p_com_2026\": 0.0, \"total_2026\": 21.7442206189, \"p_com_2021\": 0.0, \"property_id\": 100022.0, \"p_res_2011\": 3.73373493713, \"total_2016\": 16.6317376244, \"total_2021\": 19.0802789708, \"p_res_2021\": 19.0802789708, \"floor_area\": 161.0, \"p_res_2016\": 16.6317376244, \"p_com_2016\": 0.0}}}, {\"links\": [{\"rel\": \"self\", \"href\": \"https://data.melbourne.vic.gov.au/api/v2/catalog/datasets/property-level-energy-consumption-modelled-on-building-attributes-baseline-2011-/records/6315be93b54eae5cea7f79980fc6886177929732\"}, {\"rel\": \"datasets\", \"href\": \"https://data.melbourne.vic.gov.au/api/v2/catalog/datasets\"}, {\"rel\": \"dataset\", \"href\": \"https://data.melbourne.vic.gov.au/api/v2/catalog/datasets/property-level-energy-consumption-modelled-on-building-attributes-baseline-2011-\"}], \"record\": {\"id\": \"6315be93b54eae5cea7f79980fc6886177929732\", \"timestamp\": \"2022-11-13T10:00:48.701Z\", \"size\": 386, \"fields\": {\"geo_point_2d\": {\"lon\": 144.94531864353883, \"lat\": -37.80200405220957}, \"geo_shape\": {\"type\": \"Feature\", \"geometry\": {\"coordinates\": [[[[144.94546343494602, -37.80199790943221], [144.9454553715992, -37.802041907401005], [144.94517399703594, -37.802010309647315], [144.94518219179517, -37.80196612474583], [144.94546343494602, -37.80199790943221]]]], \"type\": \"MultiPolygon\"}, \"properties\": {}}, \"total_2011\": 20.4840271502, \"p_com_2011\": 20.484016, \"p_res_2026\": 0.0, \"p_com_2026\": 22.692675, \"total_2026\": 22.692675, \"p_com_2021\": 21.994691, \"property_id\": 100027.0, \"p_res_2011\": 0.0, \"total_2016\": 21.27332, \"total_2021\": 21.994691, \"p_res_2021\": 0.0, \"floor_area\": 0.0, \"p_res_2016\": 0.0, \"p_com_2016\": 21.27332}}}, {\"links\": [{\"rel\": \"self\", \"href\": \"https://data.melbourne.vic.gov.au/api/v2/catalog/datasets/property-level-energy-consumption-modelled-on-building-attributes-baseline-2011-/records/7e8c831a3de122addbb02bf3c01619ff25379df6\"}, {\"rel\": \"datasets\", \"href\": \"https://data.melbourne.vic.gov.au/api/v2/catalog/datasets\"}, {\"rel\": \"dataset\", \"href\": \"https://data.melbourne.vic.gov.au/api/v2/catalog/datasets/property-level-energy-consumption-modelled-on-building-attributes-baseline-2011-\"}], \"record\": {\"id\": \"7e8c831a3de122addbb02bf3c01619ff25379df6\", \"timestamp\": \"2022-11-13T10:00:48.701Z\", \"size\": 417, \"fields\": {\"geo_point_2d\": {\"lon\": 144.9453281778515, \"lat\": -37.801959884910005}, \"geo_shape\": {\"type\": \"Feature\", \"geometry\": {\"coordinates\": [[[[144.94519023139284, -37.80192278424038], [144.94547181807127, -37.80195216695976], [144.9454634349211, -37.80199791033296], [144.94518219177021, -37.801966125646565], [144.94519023139284, -37.80192278424038]]]], \"type\": \"MultiPolygon\"}, \"properties\": {}}, \"total_2011\": 6.19695369977, \"p_com_2011\": 0.0, \"p_res_2026\": 35.1445789178, \"p_com_2026\": 0.0, \"total_2026\": 35.1445789178, \"p_com_2021\": 0.0, \"property_id\": 100028.0, \"p_res_2011\": 6.19695369977, \"total_2016\": 27.0429648316, \"total_2021\": 31.0400365667, \"p_res_2021\": 31.0400365667, \"floor_area\": 193.2, \"p_res_2016\": 27.0429648316, \"p_com_2016\": 0.0}}}, {\"links\": [{\"rel\": \"self\", \"href\": \"https://data.melbourne.vic.gov.au/api/v2/catalog/datasets/property-level-energy-consumption-modelled-on-building-attributes-baseline-2011-/records/81a94976a3f96eb3ffdd1b0a2be9c39970e8e4d6\"}, {\"rel\": \"datasets\", \"href\": \"https://data.melbourne.vic.gov.au/api/v2/catalog/datasets\"}, {\"rel\": \"dataset\", \"href\": \"https://data.melbourne.vic.gov.au/api/v2/catalog/datasets/property-level-energy-consumption-modelled-on-building-attributes-baseline-2011-\"}], \"record\": {\"id\": \"81a94976a3f96eb3ffdd1b0a2be9c39970e8e4d6\", \"timestamp\": \"2022-11-13T10:00:48.701Z\", \"size\": 345, \"fields\": {\"geo_point_2d\": {\"lon\": 144.9453384703384, \"lat\": -37.80189292842106}, \"geo_shape\": {\"type\": \"Feature\", \"geometry\": {\"coordinates\": [[[[144.94520699055465, -37.801832426582294], [144.94548785660734, -37.801864645299716], [144.94547181807127, -37.80195216695976], [144.94519023139284, -37.80192278424038], [144.94520699055465, -37.801832426582294]]]], \"type\": \"MultiPolygon\"}, \"properties\": {}}, \"total_2011\": 1.115016e-05, \"p_com_2011\": 0.0, \"p_res_2026\": 0.0, \"p_com_2026\": 0.0, \"total_2026\": 0.0, \"p_com_2021\": 0.0, \"property_id\": 100029.0, \"p_res_2011\": 0.0, \"total_2016\": 0.0, \"total_2021\": 0.0, \"p_res_2021\": 0.0, \"floor_area\": 0.0, \"p_res_2016\": 0.0, \"p_com_2016\": 0.0}}}, {\"links\": [{\"rel\": \"self\", \"href\": \"https://data.melbourne.vic.gov.au/api/v2/catalog/datasets/property-level-energy-consumption-modelled-on-building-attributes-baseline-2011-/records/48628c387b676ed5f7e6e20bb1523374892921a2\"}, {\"rel\": \"datasets\", \"href\": \"https://data.melbourne.vic.gov.au/api/v2/catalog/datasets\"}, {\"rel\": \"dataset\", \"href\": \"https://data.melbourne.vic.gov.au/api/v2/catalog/datasets/property-level-energy-consumption-modelled-on-building-attributes-baseline-2011-\"}], \"record\": {\"id\": \"48628c387b676ed5f7e6e20bb1523374892921a2\", \"timestamp\": \"2022-11-13T10:00:48.701Z\", \"size\": 419, \"fields\": {\"geo_point_2d\": {\"lon\": 144.94535199615794, \"lat\": -37.80182705924453}, \"geo_shape\": {\"type\": \"Feature\", \"geometry\": {\"coordinates\": [[[[144.9452148793989, -37.80178989359976], [144.94549585573628, -37.801820995862634], [144.94548785660734, -37.801864645299716], [144.94520699055465, -37.801832426582294], [144.9452148793989, -37.80178989359976]]]], \"type\": \"MultiPolygon\"}, \"properties\": {}}, \"total_2011\": 6.78745937387, \"p_com_2011\": 0.0, \"p_res_2026\": 38.4935007494, \"p_com_2026\": 0.0, \"total_2026\": 38.4935007494, \"p_com_2021\": 0.0, \"property_id\": 100030.0, \"p_res_2011\": 6.78745937387, \"total_2016\": 29.6198850311, \"total_2021\": 33.9978371526, \"p_res_2021\": 33.9978371526, \"floor_area\": 211.61, \"p_res_2016\": 29.6198850311, \"p_com_2016\": 0.0}}}]}')"
      ]
     },
     "execution_count": 16,
     "metadata": {},
     "output_type": "execute_result"
    }
   ],
   "source": [
    "result_1.text, result_2.text"
   ]
  },
  {
   "cell_type": "code",
   "execution_count": null,
   "metadata": {},
   "outputs": [],
   "source": []
  }
 ],
 "metadata": {
  "kernelspec": {
   "display_name": "Python 3",
   "language": "python",
   "name": "python3"
  },
  "language_info": {
   "codemirror_mode": {
    "name": "ipython",
    "version": 3
   },
   "file_extension": ".py",
   "mimetype": "text/x-python",
   "name": "python",
   "nbconvert_exporter": "python",
   "pygments_lexer": "ipython3",
   "version": "3.8.5"
  },
  "vscode": {
   "interpreter": {
    "hash": "369f2c481f4da34e4445cda3fffd2e751bd1c4d706f27375911949ba6bb62e1c"
   }
  }
 },
 "nbformat": 4,
 "nbformat_minor": 4
}
